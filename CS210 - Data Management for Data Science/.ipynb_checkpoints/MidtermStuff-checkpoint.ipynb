{
 "cells": [
  {
   "cell_type": "code",
   "execution_count": null,
   "id": "88e28f5c-3dfb-4595-91d0-9504dda6e0dd",
   "metadata": {},
   "outputs": [],
   "source": [
    "def getShots(filename, lower = 10000, upper = 500000) :\n",
    "    file = open(filename)\n",
    "    lines = file.readlines()\n",
    "    for line in lines :\n",
    "        line.split().strip()\n",
    "        print(line)\n",
    "#     for line in open(file) :\n",
    "#         line = file.strip()"
   ]
  }
 ],
 "metadata": {
  "kernelspec": {
   "display_name": "Python 3",
   "language": "python",
   "name": "python3"
  },
  "language_info": {
   "codemirror_mode": {
    "name": "ipython",
    "version": 3
   },
   "file_extension": ".py",
   "mimetype": "text/x-python",
   "name": "python",
   "nbconvert_exporter": "python",
   "pygments_lexer": "ipython3",
   "version": "3.8.8"
  }
 },
 "nbformat": 4,
 "nbformat_minor": 5
}
