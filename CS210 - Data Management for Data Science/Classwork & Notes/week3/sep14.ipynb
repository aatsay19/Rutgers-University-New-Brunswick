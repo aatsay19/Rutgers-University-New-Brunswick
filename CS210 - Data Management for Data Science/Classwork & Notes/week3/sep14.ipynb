{
 "cells": [
  {
   "cell_type": "code",
   "execution_count": 13,
   "id": "21eda7d2-0401-402f-a6f5-4c554e935eb3",
   "metadata": {},
   "outputs": [],
   "source": [
    "# Read input from console\n",
    "def temp_convert() :\n",
    "    dir = input(\"Enter 'f2c' or 'c2f': \")\n",
    "    if dir == 'f2c' :\n",
    "        f = float(input(\"Enter temperature in Farenheit: \"))  # convert input text (string) to numeric float\n",
    "        c = (f - 32) / 9 * 5\n",
    "        return c\n",
    "    else :\n",
    "        c = float(input(\"Enter temperature in Celsius: \"))\n",
    "        f = c * 9 / 5 + 32\n",
    "        return f"
   ]
  },
  {
   "cell_type": "code",
   "execution_count": 15,
   "id": "386935e8-15e0-4914-96ac-185c1b2557ef",
   "metadata": {},
   "outputs": [
    {
     "name": "stdin",
     "output_type": "stream",
     "text": [
      "Enter 'f2c' or 'c2f':  f2c\n",
      "Enter temperature in Farenheit:  82\n"
     ]
    },
    {
     "data": {
      "text/plain": [
       "27.77777777777778"
      ]
     },
     "execution_count": 15,
     "metadata": {},
     "output_type": "execute_result"
    }
   ],
   "source": [
    "temp_convert()"
   ]
  },
  {
   "cell_type": "code",
   "execution_count": 16,
   "id": "3f378ffa-448f-4876-aba2-ae539974621b",
   "metadata": {},
   "outputs": [
    {
     "name": "stdin",
     "output_type": "stream",
     "text": [
      "Enter 'f2c' or 'c2f':  f2c\n",
      "Enter temperature in Farenheit:  28.x\n"
     ]
    },
    {
     "ename": "ValueError",
     "evalue": "could not convert string to float: '28.x'",
     "output_type": "error",
     "traceback": [
      "\u001b[1;31m---------------------------------------------------------------------------\u001b[0m",
      "\u001b[1;31mValueError\u001b[0m                                Traceback (most recent call last)",
      "\u001b[1;32m<ipython-input-16-d53e92462eb1>\u001b[0m in \u001b[0;36m<module>\u001b[1;34m\u001b[0m\n\u001b[1;32m----> 1\u001b[1;33m \u001b[0mtemp_convert\u001b[0m\u001b[1;33m(\u001b[0m\u001b[1;33m)\u001b[0m\u001b[1;33m\u001b[0m\u001b[1;33m\u001b[0m\u001b[0m\n\u001b[0m",
      "\u001b[1;32m<ipython-input-13-0a5401095423>\u001b[0m in \u001b[0;36mtemp_convert\u001b[1;34m()\u001b[0m\n\u001b[0;32m      3\u001b[0m     \u001b[0mdir\u001b[0m \u001b[1;33m=\u001b[0m \u001b[0minput\u001b[0m\u001b[1;33m(\u001b[0m\u001b[1;34m\"Enter 'f2c' or 'c2f': \"\u001b[0m\u001b[1;33m)\u001b[0m\u001b[1;33m\u001b[0m\u001b[1;33m\u001b[0m\u001b[0m\n\u001b[0;32m      4\u001b[0m     \u001b[1;32mif\u001b[0m \u001b[0mdir\u001b[0m \u001b[1;33m==\u001b[0m \u001b[1;34m'f2c'\u001b[0m \u001b[1;33m:\u001b[0m\u001b[1;33m\u001b[0m\u001b[1;33m\u001b[0m\u001b[0m\n\u001b[1;32m----> 5\u001b[1;33m         \u001b[0mf\u001b[0m \u001b[1;33m=\u001b[0m \u001b[0mfloat\u001b[0m\u001b[1;33m(\u001b[0m\u001b[0minput\u001b[0m\u001b[1;33m(\u001b[0m\u001b[1;34m\"Enter temperature in Farenheit: \"\u001b[0m\u001b[1;33m)\u001b[0m\u001b[1;33m)\u001b[0m  \u001b[1;31m# convert input text (string) to numeric float\u001b[0m\u001b[1;33m\u001b[0m\u001b[1;33m\u001b[0m\u001b[0m\n\u001b[0m\u001b[0;32m      6\u001b[0m         \u001b[0mc\u001b[0m \u001b[1;33m=\u001b[0m \u001b[1;33m(\u001b[0m\u001b[0mf\u001b[0m \u001b[1;33m-\u001b[0m \u001b[1;36m32\u001b[0m\u001b[1;33m)\u001b[0m \u001b[1;33m/\u001b[0m \u001b[1;36m9\u001b[0m \u001b[1;33m*\u001b[0m \u001b[1;36m5\u001b[0m\u001b[1;33m\u001b[0m\u001b[1;33m\u001b[0m\u001b[0m\n\u001b[0;32m      7\u001b[0m         \u001b[1;32mreturn\u001b[0m \u001b[0mc\u001b[0m\u001b[1;33m\u001b[0m\u001b[1;33m\u001b[0m\u001b[0m\n",
      "\u001b[1;31mValueError\u001b[0m: could not convert string to float: '28.x'"
     ]
    }
   ],
   "source": [
    "temp_convert()"
   ]
  },
  {
   "cell_type": "markdown",
   "id": "11aeef77-8b78-423a-9aa1-8e85f20c0e9a",
   "metadata": {},
   "source": [
    "**Using try-except to Trap Errors**"
   ]
  },
  {
   "cell_type": "code",
   "execution_count": 18,
   "id": "41a73664-b3b3-44f2-a933-60e00e61a909",
   "metadata": {},
   "outputs": [],
   "source": [
    "# Using try-except\n",
    "def temp_convert() :\n",
    "    dir = input(\"Enter 'f2c' or 'c2f': \")\n",
    "    try :\n",
    "        if dir == 'f2c' :\n",
    "            f = float(input(\"Enter temperature in Farenheit: \"))  # convert input text (string) to numeric float\n",
    "            c = (f - 32) / 9 * 5\n",
    "            return c\n",
    "        else :\n",
    "            c = float(input(\"Enter temperature in Celsius: \"))\n",
    "            f = c * 9 / 5 + 32\n",
    "            return f\n",
    "    except ValueError as err :\n",
    "        print(err)"
   ]
  },
  {
   "cell_type": "code",
   "execution_count": 20,
   "id": "eaddb64d-f94f-4895-8522-255778ce10a6",
   "metadata": {},
   "outputs": [
    {
     "name": "stdin",
     "output_type": "stream",
     "text": [
      "Enter 'f2c' or 'c2f':  f2c\n",
      "Enter temperature in Farenheit:  28.x\n"
     ]
    },
    {
     "name": "stdout",
     "output_type": "stream",
     "text": [
      "could not convert string to float: '28.x'\n"
     ]
    }
   ],
   "source": [
    "temp_convert()"
   ]
  },
  {
   "cell_type": "code",
   "execution_count": 23,
   "id": "91ac9b54-c5f3-49d1-808c-918b8c7a683d",
   "metadata": {},
   "outputs": [],
   "source": [
    "# Using try-except\n",
    "def temp_convert() :\n",
    "    dir = input(\"Enter 'f2c' or 'c2f': \")\n",
    "    try :\n",
    "        if dir == 'f2c' :\n",
    "            inp = input(\"Enter temperature in Farenheit: \")\n",
    "            f = float(inp)  # convert input text (string) to numeric float\n",
    "            c = (f - 32) / 9 * 5\n",
    "            return c\n",
    "        else :\n",
    "            inp = input(\"Enter temperature in Farenheit: \")\n",
    "            c = float(inp)\n",
    "            f = c * 9 / 5 + 32\n",
    "            return f\n",
    "    except ValueError :\n",
    "        print(f\"Input must be a real number. You entered: {inp}\")"
   ]
  },
  {
   "cell_type": "code",
   "execution_count": 24,
   "id": "0a24a1fd-26be-467e-8ebe-51d83c9e9482",
   "metadata": {},
   "outputs": [
    {
     "name": "stdin",
     "output_type": "stream",
     "text": [
      "Enter 'f2c' or 'c2f':  f2c\n",
      "Enter temperature in Farenheit:  28.x\n"
     ]
    },
    {
     "name": "stdout",
     "output_type": "stream",
     "text": [
      "Input must be a real number. You entered: 28.x\n"
     ]
    }
   ],
   "source": [
    "temp_convert()"
   ]
  },
  {
   "cell_type": "code",
   "execution_count": 26,
   "id": "869796a5-5a9a-4ac8-8327-9db0432dee23",
   "metadata": {},
   "outputs": [],
   "source": [
    "# Should ony allow 'f2c' or 'c2f'\n",
    "def temp_convert() :\n",
    "    dir = input(\"Enter 'f2c' or 'c2f': \")\n",
    "    try :\n",
    "        if dir == 'f2c' :\n",
    "            inp = input(\"Enter temperature in Farenheit: \")\n",
    "            f = float(inp)  # convert input text (string) to numeric float\n",
    "            c = (f - 32) / 9 * 5\n",
    "            return c\n",
    "        elif dir == 'c2f' :\n",
    "            inp = input(\"Enter temperature in Farenheit: \")\n",
    "            c = float(inp)\n",
    "            f = c * 9 / 5 + 32\n",
    "            return f\n",
    "        else :\n",
    "            print(f'You must only type \"f2c\" or \"c2f\". You entered: {dir}')\n",
    "    except ValueError :\n",
    "        print(f\"Input must be a real number. You entered: {inp}\")"
   ]
  },
  {
   "cell_type": "code",
   "execution_count": 27,
   "id": "401b3013-4207-41ed-bf65-833d76ee89bb",
   "metadata": {},
   "outputs": [
    {
     "name": "stdin",
     "output_type": "stream",
     "text": [
      "Enter 'f2c' or 'c2f':  abc\n"
     ]
    },
    {
     "name": "stdout",
     "output_type": "stream",
     "text": [
      "You must only type \"f2c\" or \"c2f\". You entered: abc\n"
     ]
    }
   ],
   "source": [
    "temp_convert()"
   ]
  },
  {
   "cell_type": "markdown",
   "id": "541be30e-647a-4543-8d99-d6734ce6629f",
   "metadata": {},
   "source": [
    "---"
   ]
  },
  {
   "cell_type": "markdown",
   "id": "258a983d-d4f9-4cc6-be67-42c59ef61ccc",
   "metadata": {},
   "source": [
    "**Command Line Arguments to a Python Program**"
   ]
  },
  {
   "cell_type": "raw",
   "id": "d68b98af-e6b1-43e4-891d-85cbff7ea5bc",
   "metadata": {},
   "source": [
    "python convertargs.py 23 c2f  # in terminal"
   ]
  },
  {
   "cell_type": "markdown",
   "id": "ab0bba6d-6e67-4787-9e44-4377bd0ab3ee",
   "metadata": {},
   "source": [
    "---"
   ]
  },
  {
   "cell_type": "markdown",
   "id": "e265ed22-3dda-4243-a5d4-88b0da7879db",
   "metadata": {},
   "source": [
    "#### Repetition Using while Loop"
   ]
  },
  {
   "cell_type": "code",
   "execution_count": 34,
   "id": "e7c0e9f4-564e-40c8-9050-2a5fca10b15d",
   "metadata": {},
   "outputs": [],
   "source": [
    "def sum_it(cap) :\n",
    "    num = 1\n",
    "    sum = 0\n",
    "    while num <= cap :\n",
    "        sum += num  # same as sum = sum + num\n",
    "        num += 1  # same as num = num + 1\n",
    "    return sum"
   ]
  },
  {
   "cell_type": "code",
   "execution_count": 32,
   "id": "9981b83c-fc53-4b7d-99be-35fa87165902",
   "metadata": {},
   "outputs": [
    {
     "name": "stdout",
     "output_type": "stream",
     "text": [
      "Sum = 15\n"
     ]
    }
   ],
   "source": [
    "print(f'Sum = {sum_it(5)}')"
   ]
  },
  {
   "cell_type": "code",
   "execution_count": 35,
   "id": "c4b402f9-cd71-48be-8234-a29f58fa9ae8",
   "metadata": {},
   "outputs": [],
   "source": [
    "def sum_it(cap) :\n",
    "    sum = 0\n",
    "    while cap > 0 :\n",
    "        sum += cap  # same as sum = sum + num\n",
    "        cap -= 1  # same as num = num + 1\n",
    "    return sum"
   ]
  },
  {
   "cell_type": "code",
   "execution_count": 36,
   "id": "efe1f08b-5202-4214-9849-8aa1474ddfb5",
   "metadata": {},
   "outputs": [
    {
     "name": "stdout",
     "output_type": "stream",
     "text": [
      "Sum = 15\n"
     ]
    }
   ],
   "source": [
    "print(f'Sum = {sum_it(5)}')"
   ]
  },
  {
   "cell_type": "code",
   "execution_count": 37,
   "id": "91fb616a-ab44-489f-b912-f2fe82e66e0b",
   "metadata": {},
   "outputs": [
    {
     "ename": "KeyboardInterrupt",
     "evalue": "",
     "output_type": "error",
     "traceback": [
      "\u001b[1;31m---------------------------------------------------------------------------\u001b[0m",
      "\u001b[1;31mKeyboardInterrupt\u001b[0m                         Traceback (most recent call last)",
      "\u001b[1;32m<ipython-input-37-298ccdd8a814>\u001b[0m in \u001b[0;36m<module>\u001b[1;34m\u001b[0m\n\u001b[0;32m      3\u001b[0m \u001b[1;32mwhile\u001b[0m \u001b[1;32mTrue\u001b[0m \u001b[1;33m:\u001b[0m\u001b[1;33m\u001b[0m\u001b[1;33m\u001b[0m\u001b[0m\n\u001b[0;32m      4\u001b[0m     \u001b[0msum\u001b[0m \u001b[1;33m+=\u001b[0m \u001b[0mcap\u001b[0m  \u001b[1;31m# same as sum = sum + num\u001b[0m\u001b[1;33m\u001b[0m\u001b[1;33m\u001b[0m\u001b[0m\n\u001b[1;32m----> 5\u001b[1;33m     \u001b[0mcap\u001b[0m \u001b[1;33m-=\u001b[0m \u001b[1;36m1\u001b[0m  \u001b[1;31m# same as num = num + 1\u001b[0m\u001b[1;33m\u001b[0m\u001b[1;33m\u001b[0m\u001b[0m\n\u001b[0m\u001b[0;32m      6\u001b[0m     \u001b[1;31m# Infinite loop example\u001b[0m\u001b[1;33m\u001b[0m\u001b[1;33m\u001b[0m\u001b[1;33m\u001b[0m\u001b[0m\n\u001b[0;32m      7\u001b[0m     \u001b[1;31m# if cap == 0\u001b[0m\u001b[1;33m\u001b[0m\u001b[1;33m\u001b[0m\u001b[1;33m\u001b[0m\u001b[0m\n",
      "\u001b[1;31mKeyboardInterrupt\u001b[0m: "
     ]
    }
   ],
   "source": [
    "cap = 5\n",
    "sum = 0\n",
    "while True :\n",
    "    sum += cap  # same as sum = sum + num\n",
    "    cap -= 1  # same as num = num + 1\n",
    "    # Infinite loop example\n",
    "    # if cap == 0\n",
    "        # break\n",
    "print(f'Sum = {sum}')"
   ]
  },
  {
   "cell_type": "code",
   "execution_count": 39,
   "id": "14f7186e-0514-4321-9c77-19eab8526043",
   "metadata": {},
   "outputs": [
    {
     "name": "stdout",
     "output_type": "stream",
     "text": [
      "Sum = 15\n"
     ]
    }
   ],
   "source": [
    "cap = 5\n",
    "sum = 0\n",
    "while True :\n",
    "    sum += cap  # same as sum = sum + num\n",
    "    cap -= 1  # same as num = num + 1\n",
    "    if cap == 0 :\n",
    "        break\n",
    "print(f'Sum = {sum}')"
   ]
  },
  {
   "cell_type": "code",
   "execution_count": 40,
   "id": "d9b2cd37-3219-4600-9e06-d45eaaf35659",
   "metadata": {},
   "outputs": [
    {
     "name": "stdin",
     "output_type": "stream",
     "text": [
      "Enter next integer, 0 to stop:  2\n",
      "Enter next integer, 0 to stop:  3\n",
      "Enter next integer, 0 to stop:  -4\n",
      "Enter next integer, 0 to stop:  -2\n",
      "Enter next integer, 0 to stop:  -1\n",
      "Enter next integer, 0 to stop:  15\n",
      "Enter next integer, 0 to stop:  7\n",
      "Enter next integer, 0 to stop:  0\n"
     ]
    },
    {
     "name": "stdout",
     "output_type": "stream",
     "text": [
      "20\n"
     ]
    }
   ],
   "source": [
    "# Waterfall problem: read from input until until a 'guard' value is entered that indicates termination\n",
    "# guard can be any pre-determined value that is not acceptable as a legit input\n",
    "sum = 0\n",
    "while True:\n",
    "    try:\n",
    "        val = int(input('Enter next integer, 0 to stop: '))\n",
    "        if val == 0 :\n",
    "            break\n",
    "        sum += val\n",
    "    except ValueError :\n",
    "        print(\"Input must be an integer\")\n",
    "print(sum)"
   ]
  },
  {
   "cell_type": "code",
   "execution_count": 41,
   "id": "ffba40c6-0927-4c3b-a535-f2cd7ae6eca6",
   "metadata": {},
   "outputs": [
    {
     "name": "stdin",
     "output_type": "stream",
     "text": [
      "Enter next integer, 0 to stop:  2\n",
      "Enter next integer, 0 to stop:  3\n",
      "Enter next integer, 0 to stop:  2.5\n"
     ]
    },
    {
     "name": "stdout",
     "output_type": "stream",
     "text": [
      "Input must be an integer\n"
     ]
    },
    {
     "name": "stdin",
     "output_type": "stream",
     "text": [
      "Enter next integer, 0 to stop:  12\n",
      "Enter next integer, 0 to stop:  0\n"
     ]
    },
    {
     "name": "stdout",
     "output_type": "stream",
     "text": [
      "17\n"
     ]
    }
   ],
   "source": [
    "# Waterfall problem: read from input until until a 'guard' value is entered that indicates termination\n",
    "# guard can be any pre-determined value that is not acceptable as a legit input\n",
    "sum = 0\n",
    "while True:\n",
    "    try:\n",
    "        val = int(input('Enter next integer, 0 to stop: '))\n",
    "        if val == 0 :\n",
    "            break\n",
    "        sum += val\n",
    "    except ValueError :\n",
    "        print(\"Input must be an integer\")\n",
    "print(sum)"
   ]
  },
  {
   "cell_type": "code",
   "execution_count": 42,
   "id": "89127cd6-b37c-43e2-81d8-b82755f64b2d",
   "metadata": {},
   "outputs": [],
   "source": [
    "# Check if a number is prime\n",
    "import math\n",
    "\n",
    "def is_prime(num) :\n",
    "    if num < 1 :\n",
    "        print('Number must be a positive integer')\n",
    "        return\n",
    "    if num == 1 :\n",
    "        return False\n",
    "    if num == 2 :\n",
    "        return True\n",
    "    if num % 2 == 0 :\n",
    "        return False\n",
    "    \n",
    "    # Check odd numbers for divisors\n",
    "    d = 3\n",
    "    while d <= math.sqrt(num) :\n",
    "        if num % d == 0 :\n",
    "            return False\n",
    "        d += 2\n",
    "    return True"
   ]
  },
  {
   "cell_type": "code",
   "execution_count": 43,
   "id": "451219d9-fc8b-49fe-b4a9-350d040773e2",
   "metadata": {},
   "outputs": [],
   "source": [
    "def try_prime() :\n",
    "    while True :\n",
    "        try :\n",
    "            val = int(input('Enter +ve integer, 0 to stop: '))\n",
    "            if val == 0 :\n",
    "                break\n",
    "            if val < 1 :\n",
    "                print(\"Input must be a +ve integer\")\n",
    "                continue\n",
    "            if is_prime(val) == True :\n",
    "                print(f'{val} is a prime')\n",
    "            else :\n",
    "                print(f'{val} is not a prime')\n",
    "        except ValueError :\n",
    "            print(\"Input must be a +ve integer\")"
   ]
  },
  {
   "cell_type": "code",
   "execution_count": 44,
   "id": "88966d72-563f-46bb-bbcf-c1581ca88223",
   "metadata": {},
   "outputs": [
    {
     "name": "stdin",
     "output_type": "stream",
     "text": [
      "Enter +ve integer, 0 to stop:  15\n"
     ]
    },
    {
     "name": "stdout",
     "output_type": "stream",
     "text": [
      "15 is not a prime\n"
     ]
    },
    {
     "name": "stdin",
     "output_type": "stream",
     "text": [
      "Enter +ve integer, 0 to stop:  29\n"
     ]
    },
    {
     "name": "stdout",
     "output_type": "stream",
     "text": [
      "29 is a prime\n"
     ]
    },
    {
     "name": "stdin",
     "output_type": "stream",
     "text": [
      "Enter +ve integer, 0 to stop:  31\n"
     ]
    },
    {
     "name": "stdout",
     "output_type": "stream",
     "text": [
      "31 is a prime\n"
     ]
    },
    {
     "name": "stdin",
     "output_type": "stream",
     "text": [
      "Enter +ve integer, 0 to stop:  -25\n"
     ]
    },
    {
     "name": "stdout",
     "output_type": "stream",
     "text": [
      "Input must be a +ve integer\n"
     ]
    },
    {
     "name": "stdin",
     "output_type": "stream",
     "text": [
      "Enter +ve integer, 0 to stop:  abc.123\n"
     ]
    },
    {
     "name": "stdout",
     "output_type": "stream",
     "text": [
      "Input must be a +ve integer\n"
     ]
    },
    {
     "name": "stdin",
     "output_type": "stream",
     "text": [
      "Enter +ve integer, 0 to stop:  0\n"
     ]
    }
   ],
   "source": [
    "try_prime()"
   ]
  },
  {
   "cell_type": "code",
   "execution_count": 45,
   "id": "2277732b-477a-44f3-a24e-4af39b29832e",
   "metadata": {},
   "outputs": [],
   "source": [
    "def try_prime() :\n",
    "    while True :\n",
    "        try :\n",
    "            val = int(input('Enter +ve integer, 0 to stop: '))\n",
    "            if val == 0 :\n",
    "                break\n",
    "            if val < 1 :\n",
    "                print(\"Input must be a +ve integer\")\n",
    "                continue\n",
    "            if is_prime(val) :  # No need to compare to True\n",
    "                print(f'{val} is a prime')\n",
    "            else :\n",
    "                print(f'{val} is not a prime')\n",
    "        except ValueError :\n",
    "            print(\"Input must be a +ve integer\")"
   ]
  },
  {
   "cell_type": "code",
   "execution_count": 46,
   "id": "0b3407cd-178b-4446-b439-a3d8aa921de9",
   "metadata": {},
   "outputs": [
    {
     "name": "stdin",
     "output_type": "stream",
     "text": [
      "Enter +ve integer, 0 to stop:  15\n"
     ]
    },
    {
     "name": "stdout",
     "output_type": "stream",
     "text": [
      "15 is not a prime\n"
     ]
    },
    {
     "name": "stdin",
     "output_type": "stream",
     "text": [
      "Enter +ve integer, 0 to stop:  23\n"
     ]
    },
    {
     "name": "stdout",
     "output_type": "stream",
     "text": [
      "23 is a prime\n"
     ]
    },
    {
     "name": "stdin",
     "output_type": "stream",
     "text": [
      "Enter +ve integer, 0 to stop:  29\n"
     ]
    },
    {
     "name": "stdout",
     "output_type": "stream",
     "text": [
      "29 is a prime\n"
     ]
    },
    {
     "name": "stdin",
     "output_type": "stream",
     "text": [
      "Enter +ve integer, 0 to stop:  0\n"
     ]
    }
   ],
   "source": [
    "try_prime()"
   ]
  }
 ],
 "metadata": {
  "kernelspec": {
   "display_name": "Python 3",
   "language": "python",
   "name": "python3"
  },
  "language_info": {
   "codemirror_mode": {
    "name": "ipython",
    "version": 3
   },
   "file_extension": ".py",
   "mimetype": "text/x-python",
   "name": "python",
   "nbconvert_exporter": "python",
   "pygments_lexer": "ipython3",
   "version": "3.8.8"
  }
 },
 "nbformat": 4,
 "nbformat_minor": 5
}
