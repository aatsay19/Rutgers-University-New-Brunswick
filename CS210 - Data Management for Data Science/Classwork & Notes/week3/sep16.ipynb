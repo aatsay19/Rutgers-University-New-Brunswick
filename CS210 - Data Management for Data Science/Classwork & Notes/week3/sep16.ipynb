{
 "cells": [
  {
   "cell_type": "markdown",
   "id": "fec929ee-e345-4618-874d-42a60c4f5e86",
   "metadata": {},
   "source": [
    "#### for loop, range function"
   ]
  },
  {
   "cell_type": "code",
   "execution_count": 1,
   "id": "cea8dd51-fb32-43eb-bb97-44d6d7d37087",
   "metadata": {},
   "outputs": [
    {
     "name": "stdout",
     "output_type": "stream",
     "text": [
      "sum = 15\n"
     ]
    }
   ],
   "source": [
    "sum = 0\n",
    "for r in range(6) :  # sequence from 0 to 5 (default starts at 0)\n",
    "    sum += r\n",
    "print(f'sum = {sum}')    "
   ]
  },
  {
   "cell_type": "code",
   "execution_count": 4,
   "id": "6b5eafa3-6800-4d5b-982f-5c07f26fdae7",
   "metadata": {},
   "outputs": [
    {
     "name": "stdout",
     "output_type": "stream",
     "text": [
      "sum = 20\n"
     ]
    }
   ],
   "source": [
    "sum = 0\n",
    "for r in range(3, 8) :  # sequence from 3 to 7\n",
    "    sum += 4\n",
    "print(f'sum = {sum}')    "
   ]
  },
  {
   "cell_type": "code",
   "execution_count": 5,
   "id": "b8f26f4a-2b31-4f50-9864-51f9a2b77b1c",
   "metadata": {},
   "outputs": [
    {
     "name": "stdout",
     "output_type": "stream",
     "text": [
      "sum = 25\n"
     ]
    }
   ],
   "source": [
    "sum = 0\n",
    "for r in range(1, 10, 2) :  # sequence 1, 3, 5, 7, 9\n",
    "    sum += r\n",
    "print(f'sum = {sum}')    "
   ]
  },
  {
   "cell_type": "code",
   "execution_count": 6,
   "id": "c932e7bf-a4b3-4d31-9f7c-a30d8e02a875",
   "metadata": {},
   "outputs": [
    {
     "name": "stdout",
     "output_type": "stream",
     "text": [
      "sum = 30\n"
     ]
    }
   ],
   "source": [
    "sum = 0\n",
    "for r in range(8, 3, -1) :  # sequence 8, 7, 6, 5, 4\n",
    "    sum += r\n",
    "print(f'sum = {sum}')    "
   ]
  },
  {
   "cell_type": "code",
   "execution_count": 11,
   "id": "9a6bf416-d683-4a84-a138-eeccd3b4769d",
   "metadata": {},
   "outputs": [],
   "source": [
    "# nested iteration\n",
    "def lower_triangle(lines = 5) :\n",
    "    for l in range(1, lines + 1) :\n",
    "        for stars in range(l) :\n",
    "            print('*', end = '')  # print by default throws in a newline, keyword end suppresses it\n",
    "        print()  # throws in a newline character"
   ]
  },
  {
   "cell_type": "code",
   "execution_count": 13,
   "id": "27be6872-e272-4c7e-bc85-ae99b1427eb9",
   "metadata": {},
   "outputs": [
    {
     "name": "stdout",
     "output_type": "stream",
     "text": [
      "*\n",
      "**\n",
      "***\n",
      "****\n",
      "*****\n"
     ]
    }
   ],
   "source": [
    "lower_triangle()"
   ]
  },
  {
   "cell_type": "code",
   "execution_count": 16,
   "id": "2ad60ad6-aea9-4b53-b0ea-3b73af1c639f",
   "metadata": {},
   "outputs": [],
   "source": [
    "# nested iteration, string multiplier\n",
    "def lower_triangle(lines = 5) :\n",
    "    for l in range(1, lines + 1) :\n",
    "        print('*' * l)  # you can multiply a string to repeat it"
   ]
  },
  {
   "cell_type": "code",
   "execution_count": 17,
   "id": "50a48962-acae-4f9d-9fed-45b3048b128c",
   "metadata": {},
   "outputs": [
    {
     "name": "stdout",
     "output_type": "stream",
     "text": [
      "*\n",
      "**\n",
      "***\n",
      "****\n",
      "*****\n"
     ]
    }
   ],
   "source": [
    "lower_triangle()"
   ]
  },
  {
   "cell_type": "code",
   "execution_count": 18,
   "id": "076531a6-5605-48f3-ae68-db32e94b3f0d",
   "metadata": {},
   "outputs": [
    {
     "data": {
      "text/plain": [
       "'*+-*+-*+-'"
      ]
     },
     "execution_count": 18,
     "metadata": {},
     "output_type": "execute_result"
    }
   ],
   "source": [
    "'*+-' * 3"
   ]
  },
  {
   "cell_type": "markdown",
   "id": "bb688a71-be15-4730-a95a-5a5aea774223",
   "metadata": {},
   "source": [
    "#### Iterating over characters in a string, membership with \"in\" keyword"
   ]
  },
  {
   "cell_type": "code",
   "execution_count": 24,
   "id": "c4f3b293-5ab4-48ca-86b4-4c03475dca62",
   "metadata": {},
   "outputs": [],
   "source": [
    "# count number of vowels and consonants in a string\n",
    "def countVowelsAndConsonants(str) :\n",
    "    v_count = 0\n",
    "    c_count = 0\n",
    "    for ch in str :  # cycles through the characters in a string, \"in\" is membership operator\n",
    "        if ch.lower() in 'aeiou' :  # Check for membership in vowels list\n",
    "            v_count += 1\n",
    "        elif ch.isalpha() :\n",
    "            c_count += 1\n",
    "    return v_count, c_count"
   ]
  },
  {
   "cell_type": "code",
   "execution_count": 22,
   "id": "8cc3cd3b-cd23-45ce-a8dd-86f0e26922d0",
   "metadata": {},
   "outputs": [
    {
     "name": "stdout",
     "output_type": "stream",
     "text": [
      "Vowels: 1    Consonants: 5\n"
     ]
    }
   ],
   "source": [
    "vc, cc = countVowelsAndConsonants('string')\n",
    "print(f'Vowels: {vc}    Consonants: {cc}')"
   ]
  },
  {
   "cell_type": "code",
   "execution_count": 25,
   "id": "c35aa22f-52c3-43ce-b2ab-6b1de6069a5e",
   "metadata": {},
   "outputs": [
    {
     "name": "stdout",
     "output_type": "stream",
     "text": [
      "Vowels: 1    Consonants: 5\n"
     ]
    }
   ],
   "source": [
    "vc, cc = countVowelsAndConsonants('stri?ng')\n",
    "print(f'Vowels: {vc}    Consonants: {cc}')"
   ]
  },
  {
   "cell_type": "markdown",
   "id": "6022b239-24c6-451b-8cbd-77c89b2d2199",
   "metadata": {},
   "source": [
    "#### List"
   ]
  },
  {
   "cell_type": "code",
   "execution_count": 26,
   "id": "e7fe9dd1-8c4c-4d55-9ed1-c472b40a8a33",
   "metadata": {},
   "outputs": [],
   "source": [
    "listofints = [1, -2, 3]\n",
    "listofreals = [1.2, 3, 6.8, -12]\n",
    "listofstrings = ['cs', 'ee', 'math']\n",
    "mixedlist = [1, 'a', 2.5]"
   ]
  },
  {
   "cell_type": "code",
   "execution_count": 27,
   "id": "b3a8dc43-7ac9-4458-8ce5-99847498b712",
   "metadata": {},
   "outputs": [
    {
     "data": {
      "text/plain": [
       "3"
      ]
     },
     "execution_count": 27,
     "metadata": {},
     "output_type": "execute_result"
    }
   ],
   "source": [
    "len(listofints)"
   ]
  },
  {
   "cell_type": "code",
   "execution_count": 33,
   "id": "fb2ea519-03c8-4ee9-af85-43f168838457",
   "metadata": {},
   "outputs": [
    {
     "name": "stdout",
     "output_type": "stream",
     "text": [
      "[1, -2, 3]\n",
      "3\n"
     ]
    }
   ],
   "source": [
    "#print(sum(listofints))\n",
    "print(listofints)\n",
    "print(max(listofints))  # reduction function"
   ]
  },
  {
   "cell_type": "code",
   "execution_count": 34,
   "id": "67fabd56-bdc1-4192-950f-6d7825ab440d",
   "metadata": {},
   "outputs": [
    {
     "name": "stdout",
     "output_type": "stream",
     "text": [
      "['a', 'b', 'c', 'd', 'e']\n"
     ]
    }
   ],
   "source": [
    "strlist = list('abcde')\n",
    "print(strlist)"
   ]
  },
  {
   "cell_type": "code",
   "execution_count": 35,
   "id": "1d3b25fb-cf42-42a0-8926-21e12f099530",
   "metadata": {},
   "outputs": [
    {
     "data": {
      "text/plain": [
       "[[1, -2, 3], 'abc', 'def']"
      ]
     },
     "execution_count": 35,
     "metadata": {},
     "output_type": "execute_result"
    }
   ],
   "source": [
    "# list of lists\n",
    "[[1, -2, 3], 'abc', 'def']"
   ]
  },
  {
   "cell_type": "code",
   "execution_count": 36,
   "id": "63fcf9df-b257-4199-83e7-18f52acb6b97",
   "metadata": {},
   "outputs": [
    {
     "data": {
      "text/plain": [
       "[[1, 2, 3], [4, 5, 6], [7, 8, 9]]"
      ]
     },
     "execution_count": 36,
     "metadata": {},
     "output_type": "execute_result"
    }
   ],
   "source": [
    "[[1, 2, 3], [4, 5, 6], [7, 8, 9]]"
   ]
  },
  {
   "cell_type": "code",
   "execution_count": 37,
   "id": "d50d7bd2-f415-49cc-a400-8dbcfcbb0a85",
   "metadata": {},
   "outputs": [
    {
     "data": {
      "text/plain": [
       "[[1, -2, 3], 'abc']"
      ]
     },
     "execution_count": 37,
     "metadata": {},
     "output_type": "execute_result"
    }
   ],
   "source": [
    "[listofints, 'abc']"
   ]
  },
  {
   "cell_type": "code",
   "execution_count": 38,
   "id": "bf4ac4a2-06ee-4f7a-b74c-11c58dbf5d81",
   "metadata": {},
   "outputs": [
    {
     "data": {
      "text/plain": [
       "2"
      ]
     },
     "execution_count": 38,
     "metadata": {},
     "output_type": "execute_result"
    }
   ],
   "source": [
    "len([listofints, 'abc'])"
   ]
  },
  {
   "cell_type": "markdown",
   "id": "519567e9-7540-44c8-9de0-407a6719ea2c",
   "metadata": {},
   "source": [
    "**Indexing, slicing, striding**"
   ]
  },
  {
   "cell_type": "code",
   "execution_count": 40,
   "id": "78936b5b-571d-401f-a70a-23948bfa9647",
   "metadata": {},
   "outputs": [
    {
     "data": {
      "text/plain": [
       "'cs'"
      ]
     },
     "execution_count": 40,
     "metadata": {},
     "output_type": "execute_result"
    }
   ],
   "source": [
    "listofstrings[0]"
   ]
  },
  {
   "cell_type": "code",
   "execution_count": 41,
   "id": "b686b065-b5ac-428b-8202-914e954c25e2",
   "metadata": {},
   "outputs": [
    {
     "data": {
      "text/plain": [
       "[1, 'a', 2.5]"
      ]
     },
     "execution_count": 41,
     "metadata": {},
     "output_type": "execute_result"
    }
   ],
   "source": [
    "mixedlist"
   ]
  },
  {
   "cell_type": "code",
   "execution_count": 44,
   "id": "0264bf76-60d9-4b1d-b420-c2e9bd25aa3e",
   "metadata": {},
   "outputs": [
    {
     "data": {
      "text/plain": [
       "int"
      ]
     },
     "execution_count": 44,
     "metadata": {},
     "output_type": "execute_result"
    }
   ],
   "source": [
    "type(mixedlist[0])"
   ]
  },
  {
   "cell_type": "code",
   "execution_count": 45,
   "id": "ba2fa20c-0a38-46c5-a640-13669636f080",
   "metadata": {},
   "outputs": [
    {
     "data": {
      "text/plain": [
       "str"
      ]
     },
     "execution_count": 45,
     "metadata": {},
     "output_type": "execute_result"
    }
   ],
   "source": [
    "type(mixedlist[1])"
   ]
  },
  {
   "cell_type": "code",
   "execution_count": 46,
   "id": "55253f28-6fa5-490f-b71f-dd41dad217af",
   "metadata": {},
   "outputs": [
    {
     "data": {
      "text/plain": [
       "[1.2, 3, 6.8, -12]"
      ]
     },
     "execution_count": 46,
     "metadata": {},
     "output_type": "execute_result"
    }
   ],
   "source": [
    "listofreals"
   ]
  },
  {
   "cell_type": "code",
   "execution_count": 47,
   "id": "11fcb3f3-9427-45ec-9676-6efd8ef57557",
   "metadata": {},
   "outputs": [
    {
     "data": {
      "text/plain": [
       "-12"
      ]
     },
     "execution_count": 47,
     "metadata": {},
     "output_type": "execute_result"
    }
   ],
   "source": [
    "listofreals[3]"
   ]
  },
  {
   "cell_type": "code",
   "execution_count": 48,
   "id": "9cb51114-9ce0-4da9-9151-1835a6d57b4e",
   "metadata": {},
   "outputs": [
    {
     "name": "stdout",
     "output_type": "stream",
     "text": [
      "9\n"
     ]
    }
   ],
   "source": [
    "lst = [0, 1, 2, 3, 4, 5, 6, 7, 8, 9]\n",
    "nine = lst[9]\n",
    "print(nine)"
   ]
  },
  {
   "cell_type": "code",
   "execution_count": 49,
   "id": "f150a818-937c-4373-a6f2-2692d5b6ddd3",
   "metadata": {},
   "outputs": [
    {
     "data": {
      "text/plain": [
       "9"
      ]
     },
     "execution_count": 49,
     "metadata": {},
     "output_type": "execute_result"
    }
   ],
   "source": [
    "lst[-1]  # -1 is the last index"
   ]
  },
  {
   "cell_type": "code",
   "execution_count": 50,
   "id": "a6ea10c1-fa29-4dc1-98a6-ce4a938c090d",
   "metadata": {},
   "outputs": [
    {
     "data": {
      "text/plain": [
       "8"
      ]
     },
     "execution_count": 50,
     "metadata": {},
     "output_type": "execute_result"
    }
   ],
   "source": [
    "lst[-2]"
   ]
  },
  {
   "cell_type": "code",
   "execution_count": 51,
   "id": "c765cd16-edfa-4141-ae8f-f3af53ae2eb9",
   "metadata": {},
   "outputs": [
    {
     "data": {
      "text/plain": [
       "[0, 11, 2, 3, 4, 5, 6, 7, 8, 9]"
      ]
     },
     "execution_count": 51,
     "metadata": {},
     "output_type": "execute_result"
    }
   ],
   "source": [
    "lst[1] = 11\n",
    "lst"
   ]
  },
  {
   "cell_type": "code",
   "execution_count": 52,
   "id": "ba34f8d9-d080-409b-8786-cd0a2775f038",
   "metadata": {},
   "outputs": [
    {
     "name": "stdout",
     "output_type": "stream",
     "text": [
      "[11, 2, 3]\n"
     ]
    }
   ],
   "source": [
    "# slices\n",
    "secondthrufourth = lst[1:4]  # from index 1 to index 3\n",
    "print(secondthrufourth)"
   ]
  },
  {
   "cell_type": "code",
   "execution_count": 54,
   "id": "04bbe828-7a68-4bb8-9905-ace48dbd9c47",
   "metadata": {},
   "outputs": [
    {
     "data": {
      "text/plain": [
       "[0, 1, 2, 3, 4, 5, 6, 7, 8, 9]"
      ]
     },
     "execution_count": 54,
     "metadata": {},
     "output_type": "execute_result"
    }
   ],
   "source": [
    "lst1 = list(range(0, 10))\n",
    "lst1"
   ]
  },
  {
   "cell_type": "code",
   "execution_count": 55,
   "id": "3d36781c-60c4-4793-8e3e-50334dbbba0c",
   "metadata": {},
   "outputs": [
    {
     "data": {
      "text/plain": [
       "[0, 11, 2]"
      ]
     },
     "execution_count": 55,
     "metadata": {},
     "output_type": "execute_result"
    }
   ],
   "source": [
    "first_three = lst[:3]\n",
    "first_three"
   ]
  },
  {
   "cell_type": "code",
   "execution_count": 56,
   "id": "fdd05048-9263-4de1-ad78-e6b36307fd60",
   "metadata": {},
   "outputs": [
    {
     "data": {
      "text/plain": [
       "[7, 8, 9]"
      ]
     },
     "execution_count": 56,
     "metadata": {},
     "output_type": "execute_result"
    }
   ],
   "source": [
    "last_three = lst[-3:]\n",
    "last_three"
   ]
  },
  {
   "cell_type": "code",
   "execution_count": 57,
   "id": "d500301d-7fff-4ff0-bf4f-a5ebb50a31b2",
   "metadata": {},
   "outputs": [
    {
     "data": {
      "text/plain": [
       "[11, 2, 3, 4, 5, 6, 7, 8]"
      ]
     },
     "execution_count": 57,
     "metadata": {},
     "output_type": "execute_result"
    }
   ],
   "source": [
    "withoutfirstandlast = lst[1:-1]\n",
    "withoutfirstandlast"
   ]
  },
  {
   "cell_type": "code",
   "execution_count": 58,
   "id": "4f75f509-898f-4786-b8b4-305ef3139ca9",
   "metadata": {},
   "outputs": [
    {
     "data": {
      "text/plain": [
       "[0, 3, 6, 9]"
      ]
     },
     "execution_count": 58,
     "metadata": {},
     "output_type": "execute_result"
    }
   ],
   "source": [
    "# using a stride\n",
    "every_third = lst[::3]\n",
    "every_third"
   ]
  },
  {
   "cell_type": "code",
   "execution_count": 59,
   "id": "7b52d445-17ce-4765-b04c-4fc49c22216d",
   "metadata": {},
   "outputs": [
    {
     "data": {
      "text/plain": [
       "[8, 6, 4, 2]"
      ]
     },
     "execution_count": 59,
     "metadata": {},
     "output_type": "execute_result"
    }
   ],
   "source": [
    "lst[8:1:-2]"
   ]
  },
  {
   "cell_type": "code",
   "execution_count": 60,
   "id": "7a33ded4-24e2-48d4-b9ee-c642b9331e28",
   "metadata": {},
   "outputs": [
    {
     "data": {
      "text/plain": [
       "[4, 5, 6]"
      ]
     },
     "execution_count": 60,
     "metadata": {},
     "output_type": "execute_result"
    }
   ],
   "source": [
    "alst = [1, 2, 3, [4, 5, 6], [7, 8], 10, 11]\n",
    "alst[3]"
   ]
  },
  {
   "cell_type": "code",
   "execution_count": 61,
   "id": "07128762-b731-4e83-ab44-3e1c6584b778",
   "metadata": {},
   "outputs": [
    {
     "data": {
      "text/plain": [
       "5"
      ]
     },
     "execution_count": 61,
     "metadata": {},
     "output_type": "execute_result"
    }
   ],
   "source": [
    "alst[3][1]"
   ]
  },
  {
   "cell_type": "code",
   "execution_count": 63,
   "id": "ac5f9e41-d862-48b7-9f06-bea8ff1d31b4",
   "metadata": {},
   "outputs": [
    {
     "data": {
      "text/plain": [
       "True"
      ]
     },
     "execution_count": 63,
     "metadata": {},
     "output_type": "execute_result"
    }
   ],
   "source": [
    "6 in lst  # membership, checks if 6 is in lst"
   ]
  },
  {
   "cell_type": "markdown",
   "id": "e94ef96c-d6f9-4127-b041-acba2be7c6f0",
   "metadata": {},
   "source": [
    "**Methods extends and append, unpacking**"
   ]
  },
  {
   "cell_type": "code",
   "execution_count": 65,
   "id": "139ecc6a-579c-4b4f-abad-0c446c163fd6",
   "metadata": {},
   "outputs": [
    {
     "name": "stdout",
     "output_type": "stream",
     "text": [
      "[1, 2, 3, 4, 5, 6, 7]\n"
     ]
    }
   ],
   "source": [
    "xx = [1, 2, 3]\n",
    "xx.extend([4, 5, 6, 7])  # concatenate to list\n",
    "print(xx)"
   ]
  },
  {
   "cell_type": "code",
   "execution_count": 66,
   "id": "59fe10da-19fe-441b-b652-90a9179fe737",
   "metadata": {},
   "outputs": [
    {
     "name": "stdout",
     "output_type": "stream",
     "text": [
      "[1, 2, 3]\n",
      "[1, 2, 3, 4, 5, 6, 7]\n"
     ]
    }
   ],
   "source": [
    "xx = [1, 2, 3]\n",
    "yy = xx + [4, 5, 6, 7]\n",
    "print(xx)\n",
    "print(yy)"
   ]
  },
  {
   "cell_type": "code",
   "execution_count": 70,
   "id": "b819c4d1-15fa-4a7f-9ac9-6122cf06efa2",
   "metadata": {},
   "outputs": [
    {
     "name": "stdout",
     "output_type": "stream",
     "text": [
      "[1, 2, 3, 4]\n"
     ]
    }
   ],
   "source": [
    "x = [1, 2, 3]\n",
    "x.append(4)\n",
    "print(x)"
   ]
  },
  {
   "cell_type": "code",
   "execution_count": 71,
   "id": "5e86c254-e339-45f9-aa00-78c1c2920a12",
   "metadata": {},
   "outputs": [
    {
     "name": "stdout",
     "output_type": "stream",
     "text": [
      "[1, 2, 3, 4, [4, 5]]\n"
     ]
    },
    {
     "data": {
      "text/plain": [
       "5"
      ]
     },
     "execution_count": 71,
     "metadata": {},
     "output_type": "execute_result"
    }
   ],
   "source": [
    "x.append([4, 5])  # append is different from extend!!!\n",
    "print(x)\n",
    "len(x)"
   ]
  },
  {
   "cell_type": "code",
   "execution_count": 73,
   "id": "fb98d14f-a021-451c-b95e-87fd7887abe8",
   "metadata": {},
   "outputs": [
    {
     "name": "stdout",
     "output_type": "stream",
     "text": [
      "4 , 5\n"
     ]
    }
   ],
   "source": [
    "# unpacking\n",
    "a, b = [4, 5]\n",
    "print(a, ',', b)"
   ]
  },
  {
   "cell_type": "code",
   "execution_count": 74,
   "id": "c3d4e5be-e3e5-4d97-8d47-977b69e70092",
   "metadata": {},
   "outputs": [
    {
     "name": "stdout",
     "output_type": "stream",
     "text": [
      "6\n"
     ]
    }
   ],
   "source": [
    "_, b = [4, 6]\n",
    "print(b)"
   ]
  },
  {
   "cell_type": "code",
   "execution_count": 76,
   "id": "ba077e9f-aa02-42cc-9a98-585d2f32f40f",
   "metadata": {},
   "outputs": [
    {
     "name": "stdout",
     "output_type": "stream",
     "text": [
      "5\n",
      "[4, -3, 6, 1, -7, 3, 8]\n"
     ]
    }
   ],
   "source": [
    "mylst = [5, 4, -3, 6, 1, -7, 3, 8]\n",
    "first, * rest = mylst\n",
    "print(first)\n",
    "print(rest)"
   ]
  },
  {
   "cell_type": "code",
   "execution_count": 77,
   "id": "9745d5a1-40e6-418e-bf96-111a37bcf006",
   "metadata": {},
   "outputs": [
    {
     "ename": "ValueError",
     "evalue": "too many values to unpack (expected 2)",
     "output_type": "error",
     "traceback": [
      "\u001b[1;31m---------------------------------------------------------------------------\u001b[0m",
      "\u001b[1;31mValueError\u001b[0m                                Traceback (most recent call last)",
      "\u001b[1;32m<ipython-input-77-321fe12855d9>\u001b[0m in \u001b[0;36m<module>\u001b[1;34m\u001b[0m\n\u001b[0;32m      1\u001b[0m \u001b[0mmylst\u001b[0m \u001b[1;33m=\u001b[0m \u001b[1;33m[\u001b[0m\u001b[1;36m5\u001b[0m\u001b[1;33m,\u001b[0m \u001b[1;36m4\u001b[0m\u001b[1;33m,\u001b[0m \u001b[1;33m-\u001b[0m\u001b[1;36m3\u001b[0m\u001b[1;33m,\u001b[0m \u001b[1;36m6\u001b[0m\u001b[1;33m,\u001b[0m \u001b[1;36m1\u001b[0m\u001b[1;33m,\u001b[0m \u001b[1;33m-\u001b[0m\u001b[1;36m7\u001b[0m\u001b[1;33m,\u001b[0m \u001b[1;36m3\u001b[0m\u001b[1;33m,\u001b[0m \u001b[1;36m8\u001b[0m\u001b[1;33m]\u001b[0m\u001b[1;33m\u001b[0m\u001b[1;33m\u001b[0m\u001b[0m\n\u001b[1;32m----> 2\u001b[1;33m \u001b[0mfirst\u001b[0m\u001b[1;33m,\u001b[0m \u001b[0mrest\u001b[0m \u001b[1;33m=\u001b[0m \u001b[0mmylst\u001b[0m\u001b[1;33m\u001b[0m\u001b[1;33m\u001b[0m\u001b[0m\n\u001b[0m\u001b[0;32m      3\u001b[0m \u001b[0mprint\u001b[0m\u001b[1;33m(\u001b[0m\u001b[0mfirst\u001b[0m\u001b[1;33m)\u001b[0m\u001b[1;33m\u001b[0m\u001b[1;33m\u001b[0m\u001b[0m\n\u001b[0;32m      4\u001b[0m \u001b[0mprint\u001b[0m\u001b[1;33m(\u001b[0m\u001b[0mrest\u001b[0m\u001b[1;33m)\u001b[0m\u001b[1;33m\u001b[0m\u001b[1;33m\u001b[0m\u001b[0m\n",
      "\u001b[1;31mValueError\u001b[0m: too many values to unpack (expected 2)"
     ]
    }
   ],
   "source": [
    "mylst = [5, 4, -3, 6, 1, -7, 3, 8]\n",
    "first, rest = mylst\n",
    "print(first)\n",
    "print(rest)"
   ]
  },
  {
   "cell_type": "code",
   "execution_count": null,
   "id": "9b9371ab-7407-415b-aaab-b9ba8f7aaa69",
   "metadata": {},
   "outputs": [],
   "source": []
  },
  {
   "cell_type": "code",
   "execution_count": 78,
   "id": "1a942f41-0716-4f39-8d7e-f8c0a6d61d35",
   "metadata": {},
   "outputs": [
    {
     "name": "stdout",
     "output_type": "stream",
     "text": [
      "5\n",
      "[4, -3, 6, 1, -7, 3]\n",
      "8\n"
     ]
    }
   ],
   "source": [
    "mylst = [5, 4, -3, 6, 1, -7, 3, 8]\n",
    "first, * middle, last = mylst\n",
    "print(first)\n",
    "print(middle)\n",
    "print(last)"
   ]
  },
  {
   "cell_type": "markdown",
   "id": "ef3509b5-0bc6-4dac-b4b0-a1487a96ec39",
   "metadata": {},
   "source": [
    "**Some other list methods: count, index, insert, remove, reverse**"
   ]
  },
  {
   "cell_type": "code",
   "execution_count": 99,
   "id": "d4a25187-6f08-4686-8d08-6ee279ae061c",
   "metadata": {},
   "outputs": [
    {
     "data": {
      "text/plain": [
       "3"
      ]
     },
     "execution_count": 99,
     "metadata": {},
     "output_type": "execute_result"
    }
   ],
   "source": [
    "clst = ['a', 'b', 'a', 'c', 'd', 'a', 'b', 'f']\n",
    "clst.count(\"a\")"
   ]
  },
  {
   "cell_type": "code",
   "execution_count": 80,
   "id": "f98eab71-a15c-4ed6-b0aa-f8c5955bd514",
   "metadata": {},
   "outputs": [
    {
     "name": "stdout",
     "output_type": "stream",
     "text": [
      "3\n",
      "5\n"
     ]
    }
   ],
   "source": [
    "print(clst.index(\"c\"))\n",
    "print(clst.index(\"a\", 3))  # start at index 3"
   ]
  },
  {
   "cell_type": "code",
   "execution_count": 81,
   "id": "bf8fd12c-334a-4dc9-b450-bec292408019",
   "metadata": {},
   "outputs": [
    {
     "data": {
      "text/plain": [
       "['f', 'b', 'a', 'd', 'c', 'a', 'b', 'a']"
      ]
     },
     "execution_count": 81,
     "metadata": {},
     "output_type": "execute_result"
    }
   ],
   "source": [
    "clst[::-1]"
   ]
  },
  {
   "cell_type": "code",
   "execution_count": 83,
   "id": "2d6f5713-0707-4534-9540-5ead796a4357",
   "metadata": {},
   "outputs": [
    {
     "data": {
      "text/plain": [
       "2"
      ]
     },
     "execution_count": 83,
     "metadata": {},
     "output_type": "execute_result"
    }
   ],
   "source": [
    "clst[::-1].index(\"a\")  # last occurrence of 'a' in original list "
   ]
  },
  {
   "cell_type": "code",
   "execution_count": 86,
   "id": "1109efa4-9042-4d0b-bd41-8935febb66de",
   "metadata": {},
   "outputs": [
    {
     "name": "stdout",
     "output_type": "stream",
     "text": [
      "\"a\" is not within the list\n"
     ]
    }
   ],
   "source": [
    "try :\n",
    "    res = clst.index(\"a\", 3, 5)  # clst[3, ..., 4]\n",
    "    print('\"a\" is within the list')\n",
    "except :\n",
    "    print('\"a\" is not within the list')"
   ]
  },
  {
   "cell_type": "code",
   "execution_count": 87,
   "id": "c5b294ff-f337-4abf-95d3-05914f94ba0b",
   "metadata": {},
   "outputs": [
    {
     "ename": "ValueError",
     "evalue": "'a' is not in list",
     "output_type": "error",
     "traceback": [
      "\u001b[1;31m---------------------------------------------------------------------------\u001b[0m",
      "\u001b[1;31mValueError\u001b[0m                                Traceback (most recent call last)",
      "\u001b[1;32m<ipython-input-87-98ed4f33c192>\u001b[0m in \u001b[0;36m<module>\u001b[1;34m\u001b[0m\n\u001b[1;32m----> 1\u001b[1;33m \u001b[0mres\u001b[0m \u001b[1;33m=\u001b[0m \u001b[0mclst\u001b[0m\u001b[1;33m.\u001b[0m\u001b[0mindex\u001b[0m\u001b[1;33m(\u001b[0m\u001b[1;34m\"a\"\u001b[0m\u001b[1;33m,\u001b[0m \u001b[1;36m3\u001b[0m\u001b[1;33m,\u001b[0m \u001b[1;36m5\u001b[0m\u001b[1;33m)\u001b[0m  \u001b[1;31m# clst[3, ..., 4]\u001b[0m\u001b[1;33m\u001b[0m\u001b[1;33m\u001b[0m\u001b[0m\n\u001b[0m",
      "\u001b[1;31mValueError\u001b[0m: 'a' is not in list"
     ]
    }
   ],
   "source": [
    "res = clst.index(\"a\", 3, 5)  # clst[3, ..., 4]"
   ]
  },
  {
   "cell_type": "code",
   "execution_count": 88,
   "id": "8ca9d4c2-b4be-45f5-b982-5e2906fc5b23",
   "metadata": {},
   "outputs": [
    {
     "data": {
      "text/plain": [
       "['a', 'b', 'x', 'a', 'c', 'd', 'a', 'b', 'f']"
      ]
     },
     "execution_count": 88,
     "metadata": {},
     "output_type": "execute_result"
    }
   ],
   "source": [
    "# insert\n",
    "clst.insert(2, 'x')\n",
    "clst"
   ]
  },
  {
   "cell_type": "code",
   "execution_count": 89,
   "id": "0e446c31-5353-4be4-8054-91f12371a564",
   "metadata": {},
   "outputs": [],
   "source": [
    "# remove\n",
    "clst.remove('b')"
   ]
  },
  {
   "cell_type": "code",
   "execution_count": 90,
   "id": "e836493d-a7ac-445f-8215-890f0a26201b",
   "metadata": {},
   "outputs": [
    {
     "data": {
      "text/plain": [
       "['a', 'x', 'a', 'c', 'd', 'a', 'b', 'f']"
      ]
     },
     "execution_count": 90,
     "metadata": {},
     "output_type": "execute_result"
    }
   ],
   "source": [
    "clst"
   ]
  },
  {
   "cell_type": "code",
   "execution_count": 91,
   "id": "36793c56-b237-4188-b115-ce80fcdaa15e",
   "metadata": {},
   "outputs": [
    {
     "ename": "ValueError",
     "evalue": "list.remove(x): x not in list",
     "output_type": "error",
     "traceback": [
      "\u001b[1;31m---------------------------------------------------------------------------\u001b[0m",
      "\u001b[1;31mValueError\u001b[0m                                Traceback (most recent call last)",
      "\u001b[1;32m<ipython-input-91-090d0e4b2bc1>\u001b[0m in \u001b[0;36m<module>\u001b[1;34m\u001b[0m\n\u001b[1;32m----> 1\u001b[1;33m \u001b[0mclst\u001b[0m\u001b[1;33m.\u001b[0m\u001b[0mremove\u001b[0m\u001b[1;33m(\u001b[0m\u001b[1;34m\"y\"\u001b[0m\u001b[1;33m)\u001b[0m\u001b[1;33m\u001b[0m\u001b[1;33m\u001b[0m\u001b[0m\n\u001b[0m",
      "\u001b[1;31mValueError\u001b[0m: list.remove(x): x not in list"
     ]
    }
   ],
   "source": [
    "clst.remove(\"y\")"
   ]
  },
  {
   "cell_type": "code",
   "execution_count": 92,
   "id": "0fa8b15f-eba4-4c1c-bbd5-aa6688edd42d",
   "metadata": {},
   "outputs": [
    {
     "data": {
      "text/plain": [
       "['f', 'b', 'a', 'd', 'c', 'a', 'x', 'a']"
      ]
     },
     "execution_count": 92,
     "metadata": {},
     "output_type": "execute_result"
    }
   ],
   "source": [
    "# reverse\n",
    "clst.reverse()\n",
    "clst"
   ]
  },
  {
   "cell_type": "code",
   "execution_count": 93,
   "id": "c34b14c8-6097-4071-bf74-5fe1ce1b5db3",
   "metadata": {},
   "outputs": [
    {
     "name": "stdout",
     "output_type": "stream",
     "text": [
      "None\n",
      "['a', 'x', 'a', 'c', 'd', 'a', 'b', 'f']\n"
     ]
    }
   ],
   "source": [
    "xyz = clst.reverse()  # No return value (None same as null), clst itself is modified!!\n",
    "print(xyz)\n",
    "print(clst)"
   ]
  },
  {
   "cell_type": "markdown",
   "id": "4f4e08f2-545f-4c06-be22-25715e09a4b0",
   "metadata": {},
   "source": [
    "### Exercise: How do you remove all occurences of an item from a list"
   ]
  },
  {
   "cell_type": "code",
   "execution_count": 94,
   "id": "7c4b246a-b349-414a-be35-fff4ca6e9459",
   "metadata": {},
   "outputs": [
    {
     "data": {
      "text/plain": [
       "['a', 'x', 'a', 'c', 'd', 'a', 'b', 'f']"
      ]
     },
     "execution_count": 94,
     "metadata": {},
     "output_type": "execute_result"
    }
   ],
   "source": [
    "clst"
   ]
  },
  {
   "cell_type": "code",
   "execution_count": 95,
   "id": "6385ff31-6cdb-43b6-88e5-4fbfbaef0852",
   "metadata": {},
   "outputs": [
    {
     "data": {
      "text/plain": [
       "['a', 'x', 'a', 'b', 'c', 'd', 'a', 'b', 'f']"
      ]
     },
     "execution_count": 95,
     "metadata": {},
     "output_type": "execute_result"
    }
   ],
   "source": [
    "clst.insert(3, \"b\")\n",
    "clst"
   ]
  },
  {
   "cell_type": "code",
   "execution_count": 100,
   "id": "8325c4f5-b00b-4ee8-a229-77926f5cffff",
   "metadata": {},
   "outputs": [
    {
     "name": "stdout",
     "output_type": "stream",
     "text": [
      "['a', 'a', 'c', 'd', 'a', 'f']\n"
     ]
    }
   ],
   "source": [
    "for _ in range(clst.count(\"b\")) :\n",
    "    clst.remove(\"b\")\n",
    "print(clst)"
   ]
  },
  {
   "cell_type": "code",
   "execution_count": 101,
   "id": "02d3830b-240e-493b-a043-8d33a232e506",
   "metadata": {},
   "outputs": [
    {
     "name": "stdout",
     "output_type": "stream",
     "text": [
      "['a', 'c', 'd', 'e']\n"
     ]
    }
   ],
   "source": [
    "clst2 = ['a', 'b', 'b', 'b', 'c', 'b', 'd', 'b', 'e', 'b']\n",
    "while \"b\" in clst2 :\n",
    "    clst2.remove(\"b\")\n",
    "print(clst2)"
   ]
  }
 ],
 "metadata": {
  "kernelspec": {
   "display_name": "Python 3",
   "language": "python",
   "name": "python3"
  },
  "language_info": {
   "codemirror_mode": {
    "name": "ipython",
    "version": 3
   },
   "file_extension": ".py",
   "mimetype": "text/x-python",
   "name": "python",
   "nbconvert_exporter": "python",
   "pygments_lexer": "ipython3",
   "version": "3.8.8"
  }
 },
 "nbformat": 4,
 "nbformat_minor": 5
}
