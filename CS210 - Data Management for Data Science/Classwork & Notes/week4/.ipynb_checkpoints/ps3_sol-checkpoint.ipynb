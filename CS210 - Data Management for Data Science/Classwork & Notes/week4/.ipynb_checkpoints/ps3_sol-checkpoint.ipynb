{
 "cells": [
  {
   "cell_type": "markdown",
   "metadata": {},
   "source": [
    "### <font color='brown'>Problem Set 3: List and Dictionary - Solution</brown>"
   ]
  },
  {
   "cell_type": "markdown",
   "metadata": {},
   "source": [
    "---"
   ]
  },
  {
   "cell_type": "markdown",
   "metadata": {},
   "source": [
    "#### Problem 1\n",
    "\n",
    "1. Given two parallel lists of keys and values, convert them into a dictionary. \n",
    "2. Can you do it without iterating the lists? \n",
    "\n",
    "Hint - Zip function: https://realpython.com/python-zip-function/"
   ]
  },
  {
   "cell_type": "code",
   "execution_count": 1,
   "metadata": {},
   "outputs": [],
   "source": [
    "keys = ['Id', 'Name', 'Salary', 'Age', 'Teams']\n",
    "values = [87, 'Bob', 100000, 28, ['CRM', 'QA']]"
   ]
  },
  {
   "cell_type": "code",
   "execution_count": 2,
   "metadata": {},
   "outputs": [
    {
     "name": "stdout",
     "output_type": "stream",
     "text": [
      "{'Id': 87, 'Name': 'Bob', 'Salary': 100000, 'Age': 28, 'Teams': ['CRM', 'QA']}\n",
      "{'Id': 87, 'Name': 'Bob', 'Salary': 100000, 'Age': 28, 'Teams': ['CRM', 'QA']}\n",
      "{'Id': 87, 'Name': 'Bob', 'Salary': 100000, 'Age': 28, 'Teams': ['CRM', 'QA']}\n"
     ]
    }
   ],
   "source": [
    "# Solution \n",
    "\n",
    "#1. Using iteration\n",
    "\n",
    "d = {}\n",
    "for i in range(len(keys)):\n",
    "    d[keys[i]] = values[i]\n",
    "print(d)\n",
    "# OR\n",
    "\n",
    "d = {keys[i]:values[i] for i in range(len(keys))}\n",
    "print(d)\n",
    "\n",
    "\n",
    "# 2. Using zip function \n",
    "sampleDict = dict(zip(keys, values))\n",
    "print(sampleDict)"
   ]
  },
  {
   "cell_type": "markdown",
   "metadata": {},
   "source": [
    "---"
   ]
  },
  {
   "cell_type": "markdown",
   "metadata": {},
   "source": [
    "#### Problem 2\n",
    "\n",
    "Given the list 'nums_1' and 'nums_2', do the following:\n",
    "\n",
    "1. Sort the list 'nums_1' in descending order. Note: sort function changes the list in place. \n",
    "2. Get the list 'nums_2' in reversed order. Note: reverse functions can change the list in place. <br>\n",
    "\n",
    "You can use the updated lists to do the following: \n",
    "\n",
    "3. Print the two lists simulateneously i.e. print first element of both lists, then second and so on. Hint: See Zip function for parallel iteration\n",
    "4. Check if there is alteast one common element in 'nums_1' and 'num_2'. \n",
    "5. Count the occurrence of 5 in 'nums_1'.\n",
    "6. Make a new list from 'nums_1' such that there are no duplicates. Hint: What is a collection that has no duplicates?\n",
    "7. Make a new list from 'nums_2' which has alternate elements.\n",
    "8. Get a new list with squares of elements in 'nums_1' using list comprehension. Here's some helpful documentation on list comprehension: https://www.w3schools.com/python/python_lists_comprehension.asp"
   ]
  },
  {
   "cell_type": "code",
   "execution_count": 3,
   "metadata": {},
   "outputs": [],
   "source": [
    "nums_1 = [5, 0, 1, 0, 5, 3, 7, 5]\n",
    "nums_2 = [42, 23, 120, 300, 34, 7, 612, 78]"
   ]
  },
  {
   "cell_type": "code",
   "execution_count": 4,
   "metadata": {},
   "outputs": [
    {
     "name": "stdout",
     "output_type": "stream",
     "text": [
      "Descending: [7, 5, 5, 5, 3, 1, 0, 0]\n"
     ]
    }
   ],
   "source": [
    "# Solution \n",
    "\n",
    "# 1. \n",
    "nums_1.sort(reverse = True)\n",
    "print(\"Descending:\", nums_1)"
   ]
  },
  {
   "cell_type": "code",
   "execution_count": 5,
   "metadata": {},
   "outputs": [
    {
     "name": "stdout",
     "output_type": "stream",
     "text": [
      "78\n",
      "612\n",
      "7\n",
      "34\n",
      "300\n",
      "120\n",
      "23\n",
      "42\n",
      "[78, 612, 7, 34, 300, 120, 23, 42]\n"
     ]
    }
   ],
   "source": [
    "# 2. Reverse methods:\n",
    "\n",
    "# Printing elements in reverse order\n",
    "for i in reversed(nums_2):\n",
    "    print(i)\n",
    "\n",
    "# reverse() changes in the list in place\n",
    "nums_2.reverse()\n",
    "# or Using slicing operator\n",
    "# nums_2 = nums_2[::-1]\n",
    "print(nums_2)"
   ]
  },
  {
   "cell_type": "code",
   "execution_count": 6,
   "metadata": {},
   "outputs": [
    {
     "name": "stdout",
     "output_type": "stream",
     "text": [
      "7 78\n",
      "5 612\n",
      "5 7\n",
      "5 34\n",
      "3 300\n",
      "1 120\n",
      "0 23\n",
      "0 42\n"
     ]
    }
   ],
   "source": [
    "# 3. Print list simultaneously\n",
    "for i,j in zip(nums_1, nums_2):\n",
    "    print(i, j)"
   ]
  },
  {
   "cell_type": "code",
   "execution_count": 7,
   "metadata": {},
   "outputs": [
    {
     "name": "stdout",
     "output_type": "stream",
     "text": [
      "True\n"
     ]
    }
   ],
   "source": [
    "# 4.\n",
    "\n",
    "res = False\n",
    "for _num in nums_1:\n",
    "    if _num in nums_2:\n",
    "        res = True\n",
    "        break\n",
    "print(res)"
   ]
  },
  {
   "cell_type": "code",
   "execution_count": 8,
   "metadata": {},
   "outputs": [
    {
     "name": "stdout",
     "output_type": "stream",
     "text": [
      "3\n",
      "3\n"
     ]
    }
   ],
   "source": [
    "# 5. \n",
    "\n",
    "count = 0\n",
    "for _num in nums_1:\n",
    "    if _num == 5:\n",
    "        count += 1\n",
    "print(count)\n",
    "\n",
    "# Or Using Counter\n",
    "\n",
    "import collections\n",
    "ctr = collections.Counter(nums_1)\n",
    "print(ctr[5])"
   ]
  },
  {
   "cell_type": "code",
   "execution_count": 9,
   "metadata": {},
   "outputs": [
    {
     "name": "stdout",
     "output_type": "stream",
     "text": [
      "{0, 1, 3, 5, 7}\n"
     ]
    }
   ],
   "source": [
    "# 6. \n",
    "\n",
    "res = set(nums_1)\n",
    "print(res)"
   ]
  },
  {
   "cell_type": "code",
   "execution_count": 10,
   "metadata": {},
   "outputs": [
    {
     "name": "stdout",
     "output_type": "stream",
     "text": [
      "[78, 7, 300, 23]\n"
     ]
    }
   ],
   "source": [
    "# 7. \n",
    "\n",
    "res = nums_2[::2]\n",
    "print(res)"
   ]
  },
  {
   "cell_type": "code",
   "execution_count": 11,
   "metadata": {},
   "outputs": [
    {
     "name": "stdout",
     "output_type": "stream",
     "text": [
      "[49, 25, 25, 25, 9, 1, 0, 0]\n"
     ]
    }
   ],
   "source": [
    "# 8. List comprehension\n",
    "\n",
    "res = [i**2 for i in nums_1]\n",
    "print(res)"
   ]
  },
  {
   "cell_type": "markdown",
   "metadata": {},
   "source": [
    "---"
   ]
  },
  {
   "cell_type": "markdown",
   "metadata": {},
   "source": [
    "#### Problem 3\n",
    "Given a list of words, write code to count the number of words where the word length is 3 or more and the first and last character are same. Return the count. Also return a string formed by the first letter of each word. "
   ]
  },
  {
   "cell_type": "code",
   "execution_count": 12,
   "metadata": {},
   "outputs": [],
   "source": [
    "words = [\"aba\", \"hello\", \"xyx\", \"122321\", \"name\", \"noon\"]"
   ]
  },
  {
   "cell_type": "code",
   "execution_count": 13,
   "metadata": {},
   "outputs": [],
   "source": [
    "def count_words(words):\n",
    "    count = 0\n",
    "    first_letter = []\n",
    "    for word in words:\n",
    "        first_letter.append(word[0])\n",
    "        if len(word) >= 3 and word[0] == word[-1]:\n",
    "            count += 1\n",
    "    s = ''.join(first_letter)\n",
    "    return count, s"
   ]
  },
  {
   "cell_type": "code",
   "execution_count": 14,
   "metadata": {},
   "outputs": [
    {
     "name": "stdout",
     "output_type": "stream",
     "text": [
      "4\n",
      "ahx1nn\n"
     ]
    }
   ],
   "source": [
    "count, s = count_words(words)\n",
    "print(count)\n",
    "print(s)"
   ]
  },
  {
   "cell_type": "code",
   "execution_count": 15,
   "metadata": {},
   "outputs": [],
   "source": [
    "# Solution\n",
    "\n",
    "# Check if string == reversed string\n",
    "def isPalindrome(s):\n",
    "    return s == s[::-1]\n",
    "\n",
    "# Iterative method\n",
    "def isPalindrome(s):\n",
    "    l = len(s)\n",
    "    for i in range(0, int(l/2)): \n",
    "        if s[i] != s[l-i-1]:\n",
    "            return False\n",
    "    return True"
   ]
  },
  {
   "cell_type": "markdown",
   "metadata": {},
   "source": [
    "---"
   ]
  },
  {
   "cell_type": "markdown",
   "metadata": {},
   "source": [
    "#### Problem 4\n",
    "\n",
    "Given a dictionary, do the following: \n",
    "\n",
    "1. Check if the dictionary is empty.\n",
    "2. Print all unique values in the dictionary.\n",
    "3. Get the keys in the dictionary.\n",
    "4. Make a new dictionary where the values are more than 50."
   ]
  },
  {
   "cell_type": "code",
   "execution_count": 16,
   "metadata": {},
   "outputs": [],
   "source": [
    "d = {'a':'12', 'b':'34', 'c':'76', 'd':'87', 'e':'12', 'f':'90', 'g':'34', 'h':'0', 'i':'0'}"
   ]
  },
  {
   "cell_type": "code",
   "execution_count": 17,
   "metadata": {},
   "outputs": [
    {
     "name": "stdout",
     "output_type": "stream",
     "text": [
      "False\n",
      "False\n",
      "{'76', '34', '12', '90', '87', '0'}\n",
      "dict_keys(['a', 'b', 'c', 'd', 'e', 'f', 'g', 'h', 'i'])\n",
      "{'c': '76', 'd': '87', 'f': '90'}\n"
     ]
    }
   ],
   "source": [
    "# Solution \n",
    "\n",
    "# 1. \n",
    "l = len(d)\n",
    "print(l == 0)\n",
    "\n",
    "empty = not d\n",
    "print(empty)\n",
    "\n",
    "\n",
    "# 2. \n",
    "unique_val = set(d.values())\n",
    "print(unique_val)\n",
    "\n",
    "# 3. \n",
    "keys = d.keys()\n",
    "print(keys)\n",
    "\n",
    "# 4. \n",
    "new_dict = {}\n",
    "for key, value in d.items():\n",
    "    if int(value) > 50:\n",
    "        new_dict[key] = value\n",
    "print(new_dict)"
   ]
  },
  {
   "cell_type": "markdown",
   "metadata": {},
   "source": [
    "---"
   ]
  },
  {
   "cell_type": "markdown",
   "metadata": {},
   "source": [
    "#### Problem 5\n",
    "\n",
    "Write a function that takes two strings as input and returns a boolean value if the strings are anagrams. A word is an anagram of another word, if the first word can be rearranged to form the second word. Note: The letters of the words may be used exactly once. <br>\n",
    "Example of anagrams: \"race and care\", \"keen and knee\" <br>\n",
    "Hint: What are the necessary conditions for two words to be an anagram? "
   ]
  },
  {
   "cell_type": "code",
   "execution_count": 18,
   "metadata": {},
   "outputs": [],
   "source": [
    "from collections import defaultdict"
   ]
  },
  {
   "cell_type": "code",
   "execution_count": 19,
   "metadata": {},
   "outputs": [],
   "source": [
    "# Solution 1\n",
    "\n",
    "def is_anagram(s1, s2):\n",
    "    \n",
    "    len1 = len(s1)\n",
    "    len2 = len(s2)\n",
    "    \n",
    "    # Check length of strings. \n",
    "    if len1 != len2:\n",
    "        return False\n",
    "    \n",
    "    # Frequency of characters in s1\n",
    "    d1 = defaultdict(int) \n",
    "    for _c in s1:\n",
    "        d1[_c] += 1\n",
    "        \n",
    "    # Frequency of characters in s2\n",
    "    d2 = defaultdict(int) \n",
    "    for _c in s2:\n",
    "        d2[_c] += 1\n",
    "\n",
    "    # Compare dictionary directly \n",
    "    if d1 == d2: \n",
    "        return True\n",
    "    else:\n",
    "        return False"
   ]
  },
  {
   "cell_type": "code",
   "execution_count": 33,
   "metadata": {},
   "outputs": [],
   "source": [
    "# Check if characters have same frequency in both strings via iterating the dictionary\n",
    "for c in s1:\n",
    "    # Check if character exists in both strings\n",
    "    if c in d1 and c in d2:\n",
    "        # Check frequency\n",
    "        if d1[c] != d2[c]:\n",
    "            return False\n",
    "    else:\n",
    "        return False\n",
    "return True"
   ]
  },
  {
   "cell_type": "code",
   "execution_count": 34,
   "metadata": {},
   "outputs": [],
   "source": [
    "from collections import Counter"
   ]
  },
  {
   "cell_type": "code",
   "execution_count": 35,
   "metadata": {},
   "outputs": [],
   "source": [
    "# Solution 2 using Counter\n",
    "\n",
    "def is_anagram(s1, s2):\n",
    "    \n",
    "    len1 = len(s1)\n",
    "    len2 = len(s2)\n",
    "    \n",
    "    # Check length of strings. \n",
    "    if len1 != len2:\n",
    "        return False\n",
    "    \n",
    "    d1 = Counter(s1)\n",
    "    print(d1)\n",
    "    d2 = Counter(s2)\n",
    "    print(d2)\n",
    "    \n",
    "    # Compare dictionary directly \n",
    "    if d1 == d2: \n",
    "        return True\n",
    "    else:\n",
    "        return False"
   ]
  },
  {
   "cell_type": "code",
   "execution_count": 23,
   "metadata": {},
   "outputs": [
    {
     "name": "stdout",
     "output_type": "stream",
     "text": [
      "True\n",
      "False\n",
      "False\n"
     ]
    }
   ],
   "source": [
    "res = is_anagram('race', 'care')\n",
    "print(res)\n",
    "\n",
    "res = is_anagram('hat', 'cat')\n",
    "print(res)\n",
    "\n",
    "res = is_anagram('hate', 'cat')\n",
    "print(res)"
   ]
  },
  {
   "cell_type": "markdown",
   "metadata": {},
   "source": [
    "---"
   ]
  },
  {
   "cell_type": "markdown",
   "metadata": {},
   "source": [
    "#### Problem 6\n",
    "\n",
    "Given a (NxN) matrix in the form of 2-d list, calculate its column wise, row wise and diagonal sum. <br>\n",
    "\n",
    "Example: M = [[1,2,3],[4,5,6],[1,2,3]]\n",
    "1. Column wise sum: [6,9,12]\n",
    "2. Row wise sum: [6, 15, 6]\n",
    "3. Diagonal sum: 9"
   ]
  },
  {
   "cell_type": "code",
   "execution_count": 24,
   "metadata": {},
   "outputs": [],
   "source": [
    "# Solution \n",
    "\n",
    "def matrix_sum(m):\n",
    "    n = len(m)\n",
    "    \n",
    "    diagonal_sum = 0\n",
    "    row_sum = []\n",
    "    col_sum = []\n",
    "    for i in range(n):\n",
    "        diagonal_sum += m[i][i]\n",
    "        \n",
    "        r_i = m[i]\n",
    "        row_sum.append(sum(r_i))\n",
    "        \n",
    "        c_i = [m[j][i] for j in range(n)]\n",
    "        col_sum.append(sum(c_i))\n",
    "    \n",
    "    return col_sum, row_sum, diagonal_sum"
   ]
  },
  {
   "cell_type": "code",
   "execution_count": 25,
   "metadata": {},
   "outputs": [],
   "source": [
    "m = [[1,2,3],[4,5,6],[1,2,3]]"
   ]
  },
  {
   "cell_type": "code",
   "execution_count": 26,
   "metadata": {},
   "outputs": [
    {
     "name": "stdout",
     "output_type": "stream",
     "text": [
      "Column sum:  [6, 9, 12]\n",
      "Row sum: [6, 15, 6]\n",
      "Diagonal sum: 9\n"
     ]
    }
   ],
   "source": [
    "col_sum, row_sum, diagonal_sum = matrix_sum(m)\n",
    "print(\"Column sum: \", col_sum)\n",
    "print(\"Row sum:\",row_sum)\n",
    "print(\"Diagonal sum:\", diagonal_sum)"
   ]
  },
  {
   "cell_type": "markdown",
   "metadata": {},
   "source": [
    "---"
   ]
  },
  {
   "cell_type": "markdown",
   "metadata": {},
   "source": [
    "#### Problem 7\n",
    "\n",
    "The following dictionary has student id for key, mapped to a list scores on assignments. Calculate the final letter grade of each student using the following percentage weights for the assignments: [10%, 10%, 10%, 20%, 50%]. The maximum score for each assignment is as follows: [100,100,200,200,300]. The letter grade should be computed using the following grade scheme: \n",
    "\n",
    "1. [90-100] : 'A'\n",
    "2. [80-90) : 'B+'\n",
    "3. [70-80) : 'B'\n",
    "4. [60-70) : 'C+'\n",
    "5. < 60 : 'C'\n",
    "\n",
    "The final output should be a dictionary with student id mapped to letter grade. "
   ]
  },
  {
   "cell_type": "code",
   "execution_count": 4,
   "metadata": {},
   "outputs": [],
   "source": [
    "student_scores = {\n",
    "    'phj17' : [90, 90, 187, 175, 290],\n",
    "    'kd710' : [50, 60, 110, 180, 210],\n",
    "    'tn278' : [100, 95, 170, 105, 280],\n",
    "    'rhb13' : [85, 88, 192, 178, 263]\n",
    "}"
   ]
  },
  {
   "cell_type": "code",
   "execution_count": 7,
   "metadata": {},
   "outputs": [],
   "source": [
    "# Solution \n",
    "\n",
    "def convert_score_to_grade(score):\n",
    "    if score >= 90:\n",
    "        return 'A'\n",
    "    if score >= 80:\n",
    "        return 'B+'\n",
    "    if score >= 70:\n",
    "        return 'B'\n",
    "    if score >= 60:\n",
    "        return 'C+'\n",
    "    return 'C'"
   ]
  },
  {
   "cell_type": "code",
   "execution_count": 8,
   "metadata": {},
   "outputs": [],
   "source": [
    "weightage = [10, 10, 10, 20, 50]\n",
    "max_scores = [100, 100, 200, 200, 300]"
   ]
  },
  {
   "cell_type": "code",
   "execution_count": 9,
   "metadata": {},
   "outputs": [
    {
     "name": "stdout",
     "output_type": "stream",
     "text": [
      "{'phj17': 'A', 'kd710': 'C+', 'tn278': 'B+', 'rhb13': 'B+'}\n"
     ]
    }
   ],
   "source": [
    "student_final_grade_dict = {}\n",
    "\n",
    "for key, value in student_scores.items():\n",
    "    score = 0\n",
    "    for i in range(len(weightage)):\n",
    "        score += (value[i]*weightage[i])/max_scores[i]\n",
    "    grade = convert_score_to_grade(score)\n",
    "    student_final_grade_dict[key] = grade\n",
    "    \n",
    "print(student_final_grade_dict)"
   ]
  },
  {
   "cell_type": "markdown",
   "metadata": {},
   "source": [
    "---"
   ]
  },
  {
   "cell_type": "markdown",
   "metadata": {},
   "source": [
    "#### Problem 8\n",
    "\n",
    "1. Given the following list of (word, count), sort the list on the basis of descending order of counts.\n",
    "2. Sort the list on the basis of length of the words."
   ]
  },
  {
   "cell_type": "code",
   "execution_count": 31,
   "metadata": {},
   "outputs": [],
   "source": [
    "count = [('hello', 56), ('the', 389), ('name', 23), ('my', 45), ('wonderful', 12)]"
   ]
  },
  {
   "cell_type": "code",
   "execution_count": 32,
   "metadata": {},
   "outputs": [
    {
     "name": "stdout",
     "output_type": "stream",
     "text": [
      "[('the', 389), ('hello', 56), ('my', 45), ('name', 23), ('wonderful', 12)]\n",
      "[('my', 45), ('the', 389), ('name', 23), ('hello', 56), ('wonderful', 12)]\n"
     ]
    }
   ],
   "source": [
    "# Solution\n",
    "\n",
    "# 1. \n",
    "sort_by_count = sorted(count, key = lambda x: x[1], reverse=True)\n",
    "print(sort_by_count)\n",
    "\n",
    "# 2.\n",
    "sort_by_length = sorted(count, key = lambda x: len(x[0]))\n",
    "print(sort_by_length)"
   ]
  }
 ],
 "metadata": {
  "kernelspec": {
   "display_name": "Python 3",
   "language": "python",
   "name": "python3"
  },
  "language_info": {
   "codemirror_mode": {
    "name": "ipython",
    "version": 3
   },
   "file_extension": ".py",
   "mimetype": "text/x-python",
   "name": "python",
   "nbconvert_exporter": "python",
   "pygments_lexer": "ipython3",
   "version": "3.7.6"
  }
 },
 "nbformat": 4,
 "nbformat_minor": 4
}
