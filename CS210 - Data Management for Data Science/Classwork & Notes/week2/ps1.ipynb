{
 "cells": [
  {
   "cell_type": "markdown",
   "metadata": {
    "id": "EeExvGg38nsy"
   },
   "source": [
    "### <font color=\"brown\">Problem Set 1: Python basics</font>\n",
    "\n",
    "Prerequisites : Python installation, Jupyter installation"
   ]
  },
  {
   "cell_type": "markdown",
   "metadata": {
    "id": "JsDs7_mT8nsy"
   },
   "source": [
    "Rules for variables and function names in python:\n",
    "1. All names must start with a letter or underscore. For e.g: user_name is a valid identifier but 1digit is not. <br> \n",
    "2. Identifiers can contain letters, digits and underscores. <br> \n",
    "3. They can be of any length. <br> \n",
    "4. Identifiers can't be a keyword. Keywords are reserved words that Python uses for special purposes. For e.g: False, None, break etc <br> "
   ]
  },
  {
   "cell_type": "markdown",
   "metadata": {},
   "source": [
    "---"
   ]
  },
  {
   "cell_type": "markdown",
   "metadata": {
    "id": "z0alGOgt8nsy"
   },
   "source": [
    "#### Problem 1:\n",
    "\n",
    "Given the below value of x, print the values of following:\n",
    "1. Cube of x\n",
    "2. The remainder when divided by 4\n",
    "3. The integer quotient when divided by 5\n",
    "4. Expression to determine whether x is greater than 15 and less than 25. Print the resultant value.\n",
    "5. Check if x is equal to the value of x as string. Eg: if 3 and \"3\" are same.  \n",
    "\n",
    "All the above values should be printed in the following form: <br>\n",
    "\"Problem: Value\"\n",
    "For e.g.: \"Cube of 10: 1000\""
   ]
  },
  {
   "cell_type": "code",
   "execution_count": 1,
   "metadata": {
    "id": "AwxVpl3z8nsy"
   },
   "outputs": [],
   "source": [
    "x = 18"
   ]
  },
  {
   "cell_type": "code",
   "execution_count": 9,
   "metadata": {
    "id": "HbxPXTBL8nsy"
   },
   "outputs": [
    {
     "name": "stdout",
     "output_type": "stream",
     "text": [
      "1. Cube of 18: 5832\n",
      "2. The remainder of 18 when divided by 4: 2\n",
      "3. The integer quotient of 18 when divided by 5: 3\n",
      "4. Expression to determine whether 18 is greater than 15 and less than 25. Print the resultant value: True\n",
      "5. Check if 18 is equal to the value of 18 as string. Eg: if 3 and '3' are same: False\n",
      "\n",
      "1. Cube of 18: 5832\n",
      "2. The remainder of 18 when divided by 4: 2\n",
      "3. The integer quotient of 18 when divided by 5: 3\n",
      "4. Expression to determine whether 18 is greater than 15 and less than 25. Print the resultant value: True\n",
      "5. Check if 18 is equal to the value of 18 as string. Eg: if 3 and '3' are same: False\n"
     ]
    }
   ],
   "source": [
    "# Solution\n",
    "# Method 1: Using string .format() built-in function\n",
    "print(\"1. Cube of {0}: {1}\".format(x, x ** 3))\n",
    "print(\"2. The remainder of {0} when divided by 4: {1}\".format(x, x % 4))\n",
    "print(\"3. The integer quotient of {0} when divided by 5: {1}\".format(x, x // 5))\n",
    "print(\"4. Expression to determine whether {0} is greater than 15 and less than 25. Print the resultant value: {1}\".format(x, x > 15 and x < 25))\n",
    "print(\"5. Check if {0} is equal to the value of {0} as string. Eg: if 3 and '3' are same: {1}\".format(x, x == str(x)))\n",
    "\n",
    "# Print blank line to make output cleaner and differentiate method 1 from method 2\n",
    "print()\n",
    "\n",
    "# Method 2: Using f-string formatting\n",
    "print(f\"1. Cube of {x}: {x ** 3}\")\n",
    "print(f\"2. The remainder of {x} when divided by 4: {x % 4}\")\n",
    "print(f\"3. The integer quotient of {x} when divided by 5: {x // 5}\")\n",
    "print(f\"4. Expression to determine whether {x} is greater than 15 and less than 25. Print the resultant value: {x > 15 and x < 25}\")\n",
    "print(f\"5. Check if {x} is equal to the value of {x} as string. Eg: if 3 and '3' are same: {x == str(x)}\")"
   ]
  },
  {
   "cell_type": "markdown",
   "metadata": {},
   "source": [
    "---"
   ]
  },
  {
   "cell_type": "markdown",
   "metadata": {
    "id": "r_Wu8xYH8nsz"
   },
   "source": [
    "#### Problem 2:\n",
    "\n",
    "The function \"calculate_average\" takes in three integers and returns their average. Complete the function definition to calculate the average. Print the value of average inside the function. Also, print the data type of computed average inside the function. "
   ]
  },
  {
   "cell_type": "code",
   "execution_count": 20,
   "metadata": {
    "id": "qvW5Pbkb8nsz"
   },
   "outputs": [
    {
     "name": "stdout",
     "output_type": "stream",
     "text": [
      "Average: 5.333\n",
      "Type: <class 'float'>\n"
     ]
    },
    {
     "data": {
      "text/plain": [
       "5.333333333333333"
      ]
     },
     "execution_count": 20,
     "metadata": {},
     "output_type": "execute_result"
    }
   ],
   "source": [
    "# Solution\n",
    "def calculate_average(int1, int2, int3) :\n",
    "    avg = (int1 + int2 + int3) / 3\n",
    "    print(f'Average: {avg:.3f}\\nType: {type(avg)}')\n",
    "    return avg\n",
    "\n",
    "calculate_average(4, 5, 7)\n",
    "\n",
    "# def calculate_average(a, b, c):\n",
    "#     average = (a + b + c) / 3\n",
    "#     print('Average:', average, '\\nType:', type(average))\n",
    "#     return average\n",
    "\n",
    "# calculate_average(1, 2, 3)"
   ]
  },
  {
   "cell_type": "markdown",
   "metadata": {},
   "source": [
    "---"
   ]
  },
  {
   "cell_type": "markdown",
   "metadata": {
    "id": "BvWrfby68nsz"
   },
   "source": [
    "#### Problem 3: \n",
    "\n",
    "String concatenation and string repetition:\n",
    "\n",
    "Form a single string using the below given variables: \n",
    "\n",
    "\"My name is Jim Halpert. My annual salary is $60000 <br>\n",
    "I am good. I am good. I am good.\" \n",
    "\n",
    "Print the resultant string."
   ]
  },
  {
   "cell_type": "code",
   "execution_count": 5,
   "metadata": {
    "id": "OzqWzNcO8nsz"
   },
   "outputs": [],
   "source": [
    "name = \"Jim Halpert\" \n",
    "salary = 60000\n",
    "string = \"I am good. \"\n",
    "age = 35"
   ]
  },
  {
   "cell_type": "code",
   "execution_count": 6,
   "metadata": {
    "id": "W4Lz4Vs78nsz"
   },
   "outputs": [
    {
     "name": "stdout",
     "output_type": "stream",
     "text": [
      "My name is Jim Halpert. My annual salary is $60000\n",
      "I am good. I am good. I am good. \n"
     ]
    }
   ],
   "source": [
    "# Solution\n",
    "str1 = \"My name is \" + name + \". My annual salary is $\" + str(salary) + \"\\n\" + (string * 3)\n",
    "print(str1)\n",
    "\n",
    "# print('My name is {0}. My annual salary is ${1}'.format(name, salary))\n",
    "# print(string * 3)"
   ]
  },
  {
   "cell_type": "markdown",
   "metadata": {},
   "source": [
    "---"
   ]
  },
  {
   "cell_type": "markdown",
   "metadata": {
    "id": "LouUoFKi8nsz"
   },
   "source": [
    "#### Problem 4:\n",
    "\n",
    "String Functions:\n",
    "\n",
    "Note: All string methods returns new values. They do not change the original string.\n",
    "\n",
    "Reference: https://www.w3schools.com/python/python_ref_string.asp"
   ]
  },
  {
   "cell_type": "code",
   "execution_count": 7,
   "metadata": {
    "id": "QDRm6W2d8nsz"
   },
   "outputs": [],
   "source": [
    "string = \"Hello! How are you? It has been quite some time. Last time I saw you was in California.\""
   ]
  },
  {
   "cell_type": "markdown",
   "metadata": {
    "id": "2eVgjV0U8nsz"
   },
   "source": [
    "Given the following input string, perform the following:\n",
    "1. Print the length of string\n",
    "2. Occurrence of substring \"time\"\n",
    "3. Check if substring \"California\" and \"New York\" occurs in string\n",
    "4. Convert string to uppercase\n",
    "5. Find the index of '!' in the string\n",
    "6. Check is there are any digits in the string"
   ]
  },
  {
   "cell_type": "code",
   "execution_count": 9,
   "metadata": {
    "id": "mJ9X4BV28nsz"
   },
   "outputs": [
    {
     "name": "stdout",
     "output_type": "stream",
     "text": [
      "1.  Length of string: 87\n",
      "2.  Number of occurrences of substring 'time': 2\n",
      "3a. Substring 'California' exists in string: True\n",
      "3b. Substring 'New York' exists in string: False\n",
      "4.  Convert to uppercase: HELLO! HOW ARE YOU? IT HAS BEEN QUITE SOME TIME. LAST TIME I SAW YOU WAS IN CALIFORNIA.\n",
      "5.  Find the index of '!' in the string: 5\n",
      "6.  Check if there are any digits in the string: False\n"
     ]
    }
   ],
   "source": [
    "# Solution\n",
    "\n",
    "print(\"1.  Length of string:\", len(string))\n",
    "print(\"2.  Number of occurrences of substring 'time':\", string.count('time'))\n",
    "print(\"3a. Substring 'California' exists in string:\", 'California' in string)\n",
    "print(\"3b. Substring 'New York' exists in string:\", 'New York' in string)\n",
    "print(\"4.  Convert to uppercase:\", string.upper())\n",
    "print(\"5.  Find the index of '!' in the string:\", string.find(\"!\"))  # Or could have used string.index(\"!\")\n",
    "anyDigits = False\n",
    "for char in string :\n",
    "    if char.isdigit() :\n",
    "        anyDigits = True\n",
    "print(\"6.  Check if there are any digits in the string:\", anyDigits)  # They used string.isalnum()\n",
    "\n",
    "# 1.\n",
    "# print('Length of string:', len(string))\n",
    "\n",
    "# # 2.\n",
    "# print(\"Number of times substring 'time' occurs:\", string.count('time'))\n",
    "\n",
    "# # 3.\n",
    "# print(\"Substring 'California' occurs in string:\", 'California' in string)\n",
    "# print(\"Substring 'New York' occurs in string:\", 'New York' in string)\n",
    "\n",
    "# # 4.\n",
    "# print(string.upper())\n",
    "\n",
    "# # 5.\n",
    "# print(\"Index of '!' in string:\", string.index('!'))\n",
    "\n",
    "# # 6.\n",
    "# print('There are digits in the string:', string.isalnum())"
   ]
  },
  {
   "cell_type": "markdown",
   "metadata": {},
   "source": [
    "---"
   ]
  },
  {
   "cell_type": "markdown",
   "metadata": {
    "id": "srit6lO38nsz"
   },
   "source": [
    "#### Problem 5:\n",
    "\n",
    "Write a function to compute the area of the circle given radius r. "
   ]
  },
  {
   "cell_type": "code",
   "execution_count": 13,
   "metadata": {
    "id": "sOhhkTEv8nsz"
   },
   "outputs": [
    {
     "name": "stdout",
     "output_type": "stream",
     "text": [
      "Radius: 5.5\n",
      "Area: 95.033\n"
     ]
    }
   ],
   "source": [
    "# Solution \n",
    "import math\n",
    "\n",
    "def compute_circle_area(radius) :\n",
    "    print(f'Radius: {radius}\\nArea: {((radius ** 2) * math.pi):.3f}')\n",
    "\n",
    "compute_circle_area(5.5)\n",
    "\n",
    "# import math\n",
    "\n",
    "# def find_circle_area(r) :\n",
    "#     circle_area = math.pi * (r ** 2)\n",
    "#     return circle_area\n",
    "\n",
    "# find_circle_area(5.5)"
   ]
  },
  {
   "cell_type": "markdown",
   "metadata": {},
   "source": [
    "---"
   ]
  },
  {
   "cell_type": "markdown",
   "metadata": {
    "id": "Qwerb4-38nsz"
   },
   "source": [
    "#### Problem 6: \n",
    "\n",
    "Create a function that takes in the student id, age, name, and grade of the student. The function should print both the values. If the grade is missing, the function should display the grade as 'B'. If the age is missing, the function should display the age as 18. "
   ]
  },
  {
   "cell_type": "code",
   "execution_count": 15,
   "metadata": {
    "id": "oSVezndG8nsz"
   },
   "outputs": [
    {
     "name": "stdout",
     "output_type": "stream",
     "text": [
      "Student ID: 1234\n",
      "Name: Will Smith\n",
      "Age: 19\n",
      "Grade: A+\n",
      "\n",
      "Student ID: 1235\n",
      "Name: Bill Smith\n",
      "Age: 20\n",
      "Grade: B\n",
      "\n",
      "Student ID: 1236\n",
      "Name: Jill Smith\n",
      "Age: 18\n",
      "Grade: B\n",
      "\n",
      "Student ID: 1237\n",
      "Name: Dill Smith\n",
      "Age: 18\n",
      "Grade: C-\n"
     ]
    }
   ],
   "source": [
    "# Solution \n",
    "def print_student_info(student_ID, name, age = 18, grade = 'B') :\n",
    "    print(f'Student ID: {student_ID}\\nName: {name}\\nAge: {age}\\nGrade: {grade}')\n",
    "    \n",
    "print_student_info(1234, \"Will Smith\", 19, \"A+\")\n",
    "print()\n",
    "print_student_info(1235, \"Bill Smith\", 20)\n",
    "print()\n",
    "print_student_info(1236, \"Jill Smith\")\n",
    "print()\n",
    "print_student_info(1237, \"Dill Smith\", grade = \"C-\")\n",
    "\n",
    "# def student_info(id, name, age=18, grade='B') :\n",
    "#     print('Student ID:', id)\n",
    "#     print('Student Name:', name)\n",
    "#     print('Student Age:', age)\n",
    "#     print('Student Grade:', grade + '\\n')\n",
    "#     return\n",
    "\n",
    "# student_info(1234, 'Will Smith', 19, 'A+')\n",
    "# student_info(1235, 'Bill Smith', 20)\n",
    "# student_info(1236, 'Jill Smith')"
   ]
  },
  {
   "cell_type": "markdown",
   "metadata": {},
   "source": [
    "---"
   ]
  },
  {
   "cell_type": "markdown",
   "metadata": {
    "id": "Pq8gHj9e8nsz"
   },
   "source": [
    "#### Problem 7: \n",
    "\n",
    "1. Create a function \"calculate()\" that takes in two integers (a,b). The function should return addition, subtraction, multiplication, division of a and b. Note: If b is zero, it will result in \"Divide by zero error\".  <br>\n",
    "2. Write a function call with sample values of a and b. Print the results from the function call. "
   ]
  },
  {
   "cell_type": "code",
   "execution_count": 26,
   "metadata": {
    "id": "zSU7qcM38nsz"
   },
   "outputs": [
    {
     "name": "stdout",
     "output_type": "stream",
     "text": [
      "Addition: 3 + 5 = 8\n",
      "Subtraction: 3 - 5 = -2\n",
      "Multiplication: 3 * 5 = 15\n",
      "Division: 3 / 5 = 0.6\n",
      "\n",
      "Addition: -2 + 4 = 2\n",
      "Subtraction: -2 - 4 = -6\n",
      "Multiplication: -2 * 4 = -8\n",
      "Division: -2 / 4 = -0.5\n",
      "\n",
      "Addition: 6 + -7 = -1\n",
      "Subtraction: 6 - -7 = 13\n",
      "Multiplication: 6 * -7 = -42\n",
      "Division: 6 / -7 = -0.8571428571428571\n",
      "\n",
      "Addition: -8 + -9 = -17\n",
      "Subtraction: -8 - -9 = 1\n",
      "Multiplication: -8 * -9 = 72\n",
      "Division: -8 / -9 = 0.8888888888888888\n",
      "\n",
      "Addition: 0 + 1 = 1\n",
      "Subtraction: 0 - 1 = -1\n",
      "Multiplication: 0 * 1 = 0\n",
      "Division: 0 / 1 = 0.0\n",
      "\n"
     ]
    }
   ],
   "source": [
    "# Solution \n",
    "def calculate(a, b) :\n",
    "    return a + b, a - b, a * b, a / b\n",
    "\n",
    "a = 3\n",
    "b = 5\n",
    "_sum, diff, prod, quot = calculate(a, b)\n",
    "print(f'Addition: {a} + {b} = {_sum}\\nSubtraction: {a} - {b} = {diff}\\nMultiplication: {a} * {b} = {prod}\\nDivision: {a} / {b} = {quot}\\n')\n",
    "a = -2\n",
    "b = 4\n",
    "_sum, diff, prod, quot = calculate(a, b)\n",
    "print(f'Addition: {a} + {b} = {_sum}\\nSubtraction: {a} - {b} = {diff}\\nMultiplication: {a} * {b} = {prod}\\nDivision: {a} / {b} = {quot}\\n')\n",
    "a = 6\n",
    "b = -7\n",
    "_sum, diff, prod, quot = calculate(a, b)\n",
    "print(f'Addition: {a} + {b} = {_sum}\\nSubtraction: {a} - {b} = {diff}\\nMultiplication: {a} * {b} = {prod}\\nDivision: {a} / {b} = {quot}\\n')\n",
    "a = -8\n",
    "b = -9\n",
    "_sum, diff, prod, quot = calculate(a, b)\n",
    "print(f'Addition: {a} + {b} = {_sum}\\nSubtraction: {a} - {b} = {diff}\\nMultiplication: {a} * {b} = {prod}\\nDivision: {a} / {b} = {quot}\\n')\n",
    "a = 0\n",
    "b = 1\n",
    "_sum, diff, prod, quot = calculate(a, b)\n",
    "print(f'Addition: {a} + {b} = {_sum}\\nSubtraction: {a} - {b} = {diff}\\nMultiplication: {a} * {b} = {prod}\\nDivision: {a} / {b} = {quot}\\n')\n",
    "\n",
    "# def calculate(a, b) :\n",
    "#     sum = a + b\n",
    "#     difference = a - b\n",
    "#     product = a * b\n",
    "#     quotient = a / b\n",
    "#     return sum, difference, product, quotient\n",
    "\n",
    "# a, b, c, d = calculate(-3, 4)\n",
    "# print('For a = -3 and b = 4\\nSum: {0}\\nDifference: {1}\\nProduct: {2}\\nQuotient: {3}\\n'.format(a, b, c, d))\n",
    "# a, b, c, d = calculate(0, 4)\n",
    "# print(f'For a = 0 and b = 4:\\nSum: {a}\\nDifference: {b}\\nProduct: {c}\\nQuotient: {d}')"
   ]
  },
  {
   "cell_type": "code",
   "execution_count": 27,
   "metadata": {},
   "outputs": [
    {
     "ename": "ZeroDivisionError",
     "evalue": "division by zero",
     "output_type": "error",
     "traceback": [
      "\u001b[1;31m---------------------------------------------------------------------------\u001b[0m",
      "\u001b[1;31mZeroDivisionError\u001b[0m                         Traceback (most recent call last)",
      "\u001b[1;32m<ipython-input-27-b057b9049798>\u001b[0m in \u001b[0;36m<module>\u001b[1;34m\u001b[0m\n\u001b[0;32m      2\u001b[0m \u001b[0ma\u001b[0m \u001b[1;33m=\u001b[0m \u001b[1;36m1\u001b[0m\u001b[1;33m\u001b[0m\u001b[1;33m\u001b[0m\u001b[0m\n\u001b[0;32m      3\u001b[0m \u001b[0mb\u001b[0m \u001b[1;33m=\u001b[0m \u001b[1;36m0\u001b[0m\u001b[1;33m\u001b[0m\u001b[1;33m\u001b[0m\u001b[0m\n\u001b[1;32m----> 4\u001b[1;33m \u001b[0m_sum\u001b[0m\u001b[1;33m,\u001b[0m \u001b[0mdiff\u001b[0m\u001b[1;33m,\u001b[0m \u001b[0mprod\u001b[0m\u001b[1;33m,\u001b[0m \u001b[0mquot\u001b[0m \u001b[1;33m=\u001b[0m \u001b[0mcalculate\u001b[0m\u001b[1;33m(\u001b[0m\u001b[0ma\u001b[0m\u001b[1;33m,\u001b[0m\u001b[0mb\u001b[0m\u001b[1;33m)\u001b[0m\u001b[1;33m\u001b[0m\u001b[1;33m\u001b[0m\u001b[0m\n\u001b[0m\u001b[0;32m      5\u001b[0m \u001b[0mprint\u001b[0m\u001b[1;33m(\u001b[0m\u001b[1;34mf'Addition: {a} + {b} = {_sum}\\nSubtraction: {a} - {b} = {diff}\\nMultiplication: {a} * {b} = {prod}\\nDivision: {a} / {b} = {quot}\\n'\u001b[0m\u001b[1;33m)\u001b[0m\u001b[1;33m\u001b[0m\u001b[1;33m\u001b[0m\u001b[0m\n",
      "\u001b[1;32m<ipython-input-26-8a27f25bce0d>\u001b[0m in \u001b[0;36mcalculate\u001b[1;34m(a, b)\u001b[0m\n\u001b[0;32m      1\u001b[0m \u001b[1;31m# Solution\u001b[0m\u001b[1;33m\u001b[0m\u001b[1;33m\u001b[0m\u001b[1;33m\u001b[0m\u001b[0m\n\u001b[0;32m      2\u001b[0m \u001b[1;32mdef\u001b[0m \u001b[0mcalculate\u001b[0m\u001b[1;33m(\u001b[0m\u001b[0ma\u001b[0m\u001b[1;33m,\u001b[0m \u001b[0mb\u001b[0m\u001b[1;33m)\u001b[0m \u001b[1;33m:\u001b[0m\u001b[1;33m\u001b[0m\u001b[1;33m\u001b[0m\u001b[0m\n\u001b[1;32m----> 3\u001b[1;33m     \u001b[1;32mreturn\u001b[0m \u001b[0ma\u001b[0m \u001b[1;33m+\u001b[0m \u001b[0mb\u001b[0m\u001b[1;33m,\u001b[0m \u001b[0ma\u001b[0m \u001b[1;33m-\u001b[0m \u001b[0mb\u001b[0m\u001b[1;33m,\u001b[0m \u001b[0ma\u001b[0m \u001b[1;33m*\u001b[0m \u001b[0mb\u001b[0m\u001b[1;33m,\u001b[0m \u001b[0ma\u001b[0m \u001b[1;33m/\u001b[0m \u001b[0mb\u001b[0m\u001b[1;33m\u001b[0m\u001b[1;33m\u001b[0m\u001b[0m\n\u001b[0m\u001b[0;32m      4\u001b[0m \u001b[1;33m\u001b[0m\u001b[0m\n\u001b[0;32m      5\u001b[0m \u001b[0ma\u001b[0m \u001b[1;33m=\u001b[0m \u001b[1;36m3\u001b[0m\u001b[1;33m\u001b[0m\u001b[1;33m\u001b[0m\u001b[0m\n",
      "\u001b[1;31mZeroDivisionError\u001b[0m: division by zero"
     ]
    }
   ],
   "source": [
    "# Results in 'divide by zero' error\n",
    "a = 1\n",
    "b = 0\n",
    "_sum, diff, prod, quot = calculate(a,b)\n",
    "print(f'Addition: {a} + {b} = {_sum}\\nSubtraction: {a} - {b} = {diff}\\nMultiplication: {a} * {b} = {prod}\\nDivision: {a} / {b} = {quot}\\n')\n"
   ]
  },
  {
   "cell_type": "markdown",
   "metadata": {},
   "source": [
    "---"
   ]
  },
  {
   "cell_type": "markdown",
   "metadata": {
    "id": "nD8CZ5iW8nsz"
   },
   "source": [
    "#### Problem 8:\n",
    "\n",
    "Write a function to check if a number belongs to a particular range (a,b). If the range is not mentioned, the range should be (0,100). <br>\n",
    "\n",
    "Test your code by checking if 7 belongs to the range (5,15)."
   ]
  },
  {
   "cell_type": "code",
   "execution_count": 37,
   "metadata": {
    "id": "NJwMLsSS8nsz"
   },
   "outputs": [
    {
     "name": "stdout",
     "output_type": "stream",
     "text": [
      "True\n",
      "True\n",
      "True\n",
      "True\n",
      "False\n",
      "False\n",
      "False\n",
      "False\n",
      "True\n"
     ]
    }
   ],
   "source": [
    "# Solution \n",
    "def check_number_in_range(num, a = 0, b = 100) :\n",
    "    return num > a and num < b\n",
    "\n",
    "print(check_number_in_range(7, 5, 15))\n",
    "print(check_number_in_range(7, 5))\n",
    "print(check_number_in_range(7))\n",
    "print(check_number_in_range(7, b = 15))\n",
    "print(check_number_in_range(-7, 5, 15))\n",
    "print(check_number_in_range(-7, 5))\n",
    "print(check_number_in_range(-7))\n",
    "print(check_number_in_range(-7, b = 15))\n",
    "print(check_number_in_range(-7, -100, 0))\n",
    "\n",
    "# def number_in_range(x, a = 0, b = 100) :\n",
    "#     return a < x and x < b\n",
    "# x = 7\n",
    "# a = 5\n",
    "# b = 15  \n",
    "# print(' {0} exists in range ({1}, {2}):'.format(x, a, b), number_in_range(x, a, b))\n",
    "# x = -3\n",
    "# print(f'{x} exists in range ({a}, {b}):', number_in_range(x, a, b))\n",
    "# x = 5\n",
    "# print(f' {x} exists in range ({a}, {b}):', number_in_range(x, a, b))\n",
    "# x = 15\n",
    "# print('{0} exists in range ({1}, {2}):'.format(x, a, b), number_in_range(x, a, b))\n",
    "# x = 7\n",
    "# a = 0\n",
    "# b = 100\n",
    "# print(f' {x} exists in default range ({a}, {b}):', number_in_range(7))"
   ]
  }
 ],
 "metadata": {
  "colab": {
   "name": "Week1_Exercises.ipynb",
   "provenance": []
  },
  "kernelspec": {
   "display_name": "Python 3",
   "language": "python",
   "name": "python3"
  },
  "language_info": {
   "codemirror_mode": {
    "name": "ipython",
    "version": 3
   },
   "file_extension": ".py",
   "mimetype": "text/x-python",
   "name": "python",
   "nbconvert_exporter": "python",
   "pygments_lexer": "ipython3",
   "version": "3.8.8"
  }
 },
 "nbformat": 4,
 "nbformat_minor": 4
}
