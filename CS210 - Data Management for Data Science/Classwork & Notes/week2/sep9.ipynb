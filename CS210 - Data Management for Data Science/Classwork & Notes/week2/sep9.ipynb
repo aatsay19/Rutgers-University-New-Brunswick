{
 "cells": [
  {
   "cell_type": "markdown",
   "id": "b7cff112-5779-421e-858e-34d018b80cab",
   "metadata": {},
   "source": [
    "#### Party expense exercise\n",
    "\n",
    "Suppose that you are responsible for buying pizza and soda for your employer's annual company party. You must buy entire pizza pies and cases of soda (boxes of soda cans). You cannot buy individual slices of pizza or cans of soda, nor can you buy fractional numbers of pizza pies or soda cases. \n",
    "\n",
    "Write a function to compute the total cost of the pizza and soda you will need to buy. Do not buy more than you need to in order to supply each partygoer with the desired number of pizza slices and soda cans. \n",
    "\n",
    "Your function should take the following parameters: \n",
    "\n",
    "1. the number of people attending the party (default 5)\n",
    "2. the number of slices of pizza each person should be able to eat (default 2)\n",
    "3. the number of cans of soda each person should be able to drink (default 1)\n",
    "4. the cost of a pizza pie (default \\$10)\n",
    "5. the number of slices in a pizza pie (default 8)\n",
    "6. the cost of a case of soda (default \\$1.50)\n",
    "7. the number of cans in a case of soda (default 12)"
   ]
  },
  {
   "cell_type": "code",
   "execution_count": 2,
   "id": "210be4e8-6aef-4496-ad71-8166d25691e4",
   "metadata": {},
   "outputs": [],
   "source": [
    "import math\n",
    "\n",
    "def party_cost(n=5, p=2, s=1, pc=10, ps=8, sc=1.5, cc=12) :\n",
    "    pizza_cost = math.ceil((n * p) / ps) * pc\n",
    "    soda_cost = math.ceil((n * s) / cc) * sc\n",
    "    return pizza_cost + soda_cost"
   ]
  },
  {
   "cell_type": "code",
   "execution_count": 3,
   "id": "9a8dda7b-98ef-4d23-93d8-c1e8a0eee48d",
   "metadata": {},
   "outputs": [
    {
     "data": {
      "text/plain": [
       "21.5"
      ]
     },
     "execution_count": 3,
     "metadata": {},
     "output_type": "execute_result"
    }
   ],
   "source": [
    "party_cost()"
   ]
  },
  {
   "cell_type": "code",
   "execution_count": 4,
   "id": "6cde62aa-ec97-4204-8335-920bf0ab1584",
   "metadata": {},
   "outputs": [
    {
     "data": {
      "text/plain": [
       "21.5"
      ]
     },
     "execution_count": 4,
     "metadata": {},
     "output_type": "execute_result"
    }
   ],
   "source": [
    "party_cost(5)"
   ]
  },
  {
   "cell_type": "code",
   "execution_count": 5,
   "id": "f1b69626-f6ec-4884-8fae-aa4b1bb7c258",
   "metadata": {},
   "outputs": [
    {
     "data": {
      "text/plain": [
       "31.5"
      ]
     },
     "execution_count": 5,
     "metadata": {},
     "output_type": "execute_result"
    }
   ],
   "source": [
    "party_cost(10)"
   ]
  },
  {
   "cell_type": "code",
   "execution_count": 6,
   "id": "f2304a3f-cc44-4f1f-984a-c62d50b8c999",
   "metadata": {},
   "outputs": [
    {
     "data": {
      "text/plain": [
       "44.5"
      ]
     },
     "execution_count": 6,
     "metadata": {},
     "output_type": "execute_result"
    }
   ],
   "source": [
    "party_cost(10, 3, 3)"
   ]
  },
  {
   "cell_type": "code",
   "execution_count": 9,
   "id": "0374726e-ef98-41fc-9e9d-91d12d9b7069",
   "metadata": {},
   "outputs": [
    {
     "data": {
      "text/plain": [
       "38"
      ]
     },
     "execution_count": 9,
     "metadata": {},
     "output_type": "execute_result"
    }
   ],
   "source": [
    "party_cost(pc=15, sc=8)"
   ]
  },
  {
   "cell_type": "code",
   "execution_count": 6,
   "id": "10175ec7-b299-47ff-aa08-ec62a1aaf713",
   "metadata": {},
   "outputs": [],
   "source": [
    "def func(x, y = 5) :\n",
    "    return x * y"
   ]
  },
  {
   "cell_type": "code",
   "execution_count": 7,
   "id": "c7d629f3-e843-418c-b44e-33c912205fbf",
   "metadata": {},
   "outputs": [
    {
     "name": "stdout",
     "output_type": "stream",
     "text": [
      "15\n"
     ]
    }
   ],
   "source": [
    "print(func(3))"
   ]
  },
  {
   "cell_type": "code",
   "execution_count": 8,
   "id": "820caf58-b209-47b3-8e3b-eb256432aaba",
   "metadata": {},
   "outputs": [
    {
     "ename": "SyntaxError",
     "evalue": "non-default argument follows default argument (<ipython-input-8-bf2c8d1ce895>, line 1)",
     "output_type": "error",
     "traceback": [
      "\u001b[1;36m  File \u001b[1;32m\"<ipython-input-8-bf2c8d1ce895>\"\u001b[1;36m, line \u001b[1;32m1\u001b[0m\n\u001b[1;33m    def func(x = 5, y) :\u001b[0m\n\u001b[1;37m             ^\u001b[0m\n\u001b[1;31mSyntaxError\u001b[0m\u001b[1;31m:\u001b[0m non-default argument follows default argument\n"
     ]
    }
   ],
   "source": [
    "def func(x = 5, y) :\n",
    "    return x * y"
   ]
  },
  {
   "cell_type": "code",
   "execution_count": 11,
   "id": "a047f4db-9a44-4276-8245-0eb47da7e123",
   "metadata": {},
   "outputs": [],
   "source": [
    "def party_cost_new(n = 5,  p = 2,  s = 1,  pc = 10,  ps = 8,  sc = 1.5,  cc = 12) :\n",
    "    pies = math.ceil((n * p) / ps)\n",
    "    pizza_cost = pies * pc\n",
    "    soda_cases = math.ceil((n * s) / cc)\n",
    "    soda_cost = soda_cases * sc\n",
    "    return pies, soda_cases, pizza_cost + soda_cost"
   ]
  },
  {
   "cell_type": "code",
   "execution_count": 10,
   "id": "6ddae622-b403-429f-a8aa-89a84e1d9d0f",
   "metadata": {},
   "outputs": [
    {
     "name": "stdout",
     "output_type": "stream",
     "text": [
      "pies = 2, cases = 1, cost = 21.5\n"
     ]
    }
   ],
   "source": [
    "pies, cases, cost = party_cost_new()\n",
    "print(f\"pies = {pies}, cases = {cases}, cost = {cost}\")"
   ]
  },
  {
   "cell_type": "code",
   "execution_count": 13,
   "id": "d8a6a194-659f-40a6-98dd-18f58bfd8d4d",
   "metadata": {},
   "outputs": [
    {
     "data": {
      "text/plain": [
       "(2, 1, 21.5)"
      ]
     },
     "execution_count": 13,
     "metadata": {},
     "output_type": "execute_result"
    }
   ],
   "source": [
    "party_cost_new()"
   ]
  },
  {
   "cell_type": "code",
   "execution_count": 15,
   "id": "e232e428-d3f5-407c-befa-a563a16a5966",
   "metadata": {},
   "outputs": [
    {
     "name": "stdout",
     "output_type": "stream",
     "text": [
      "(2, 1, 21.5)\n",
      "<class 'tuple'>\n"
     ]
    }
   ],
   "source": [
    "print(party_cost_new())\n",
    "print(type(party_cost_new()))"
   ]
  },
  {
   "cell_type": "markdown",
   "id": "64038395-58fc-4d43-97c0-d106840fef53",
   "metadata": {},
   "source": [
    "### String methods"
   ]
  },
  {
   "cell_type": "code",
   "execution_count": 13,
   "id": "35387261-c0d7-485a-ab78-794a82593fea",
   "metadata": {},
   "outputs": [
    {
     "data": {
      "text/plain": [
       "True"
      ]
     },
     "execution_count": 13,
     "metadata": {},
     "output_type": "execute_result"
    }
   ],
   "source": [
    "\"myfile.ipynb\".endswith('ipynb')"
   ]
  },
  {
   "cell_type": "code",
   "execution_count": 15,
   "id": "034bdaec-6b64-424c-a6a3-9759888fbb73",
   "metadata": {},
   "outputs": [
    {
     "data": {
      "text/plain": [
       "True"
      ]
     },
     "execution_count": 15,
     "metadata": {},
     "output_type": "execute_result"
    }
   ],
   "source": [
    "\"myfile.ipynb\".startswith('my')"
   ]
  },
  {
   "cell_type": "code",
   "execution_count": 17,
   "id": "119a81a4-9d71-4701-9f54-c7d732ecc2e2",
   "metadata": {},
   "outputs": [
    {
     "data": {
      "text/plain": [
       "False"
      ]
     },
     "execution_count": 17,
     "metadata": {},
     "output_type": "execute_result"
    }
   ],
   "source": [
    "\"myfile.ipynb\".startswith('My')  # case sensitive"
   ]
  },
  {
   "cell_type": "code",
   "execution_count": 18,
   "id": "c23ddb86-21e5-457a-ae41-e3194247f80b",
   "metadata": {},
   "outputs": [
    {
     "data": {
      "text/plain": [
       "13"
      ]
     },
     "execution_count": 18,
     "metadata": {},
     "output_type": "execute_result"
    }
   ],
   "source": [
    "str = 'This is a sentence.'\n",
    "str.find('ten')"
   ]
  },
  {
   "cell_type": "code",
   "execution_count": 19,
   "id": "bb7e3bfe-52d1-4f34-bf17-d38752fa94e3",
   "metadata": {},
   "outputs": [
    {
     "data": {
      "text/plain": [
       "-1"
      ]
     },
     "execution_count": 19,
     "metadata": {},
     "output_type": "execute_result"
    }
   ],
   "source": [
    "str.find('tense')"
   ]
  },
  {
   "cell_type": "code",
   "execution_count": 21,
   "id": "b69e3228-15d3-4f54-aead-5265fd39a0ff",
   "metadata": {},
   "outputs": [
    {
     "data": {
      "text/plain": [
       "False"
      ]
     },
     "execution_count": 21,
     "metadata": {},
     "output_type": "execute_result"
    }
   ],
   "source": [
    "str.isalpha()  # is the entire string only alphabetic characters"
   ]
  },
  {
   "cell_type": "code",
   "execution_count": 22,
   "id": "11a154a9-cebc-4c19-8da6-aa31d6f78c9c",
   "metadata": {},
   "outputs": [
    {
     "name": "stdout",
     "output_type": "stream",
     "text": [
      "True\n",
      "False\n",
      "False\n"
     ]
    }
   ],
   "source": [
    "res = 'abcd'.isalpha()\n",
    "print(res)\n",
    "res = ''.isalpha()  # empty string, not alphabetic\n",
    "print(res)\n",
    "res = 'hey!'.isalpha()\n",
    "print(res)"
   ]
  },
  {
   "cell_type": "code",
   "execution_count": 23,
   "id": "a04a5f33-8d82-4762-99f3-d7f122413da0",
   "metadata": {},
   "outputs": [
    {
     "data": {
      "text/plain": [
       "True"
      ]
     },
     "execution_count": 23,
     "metadata": {},
     "output_type": "execute_result"
    }
   ],
   "source": [
    "res = '1234'.isdigit()\n",
    "res"
   ]
  },
  {
   "cell_type": "code",
   "execution_count": 24,
   "id": "8aeb929f-2073-4e81-9d98-470fbe9674c0",
   "metadata": {},
   "outputs": [
    {
     "data": {
      "text/plain": [
       "False"
      ]
     },
     "execution_count": 24,
     "metadata": {},
     "output_type": "execute_result"
    }
   ],
   "source": [
    "res = '123-456'.isdigit()\n",
    "res"
   ]
  },
  {
   "cell_type": "code",
   "execution_count": 25,
   "id": "1437f5b1-17b1-4d7a-8bd6-c7c44343b33f",
   "metadata": {},
   "outputs": [
    {
     "name": "stdout",
     "output_type": "stream",
     "text": [
      "01-25-2001\n"
     ]
    }
   ],
   "source": [
    "res = '01/25/2001'.replace('/','-')\n",
    "print(res)"
   ]
  },
  {
   "cell_type": "code",
   "execution_count": 17,
   "id": "49f7b354-3781-4411-87cd-2b4362381218",
   "metadata": {},
   "outputs": [
    {
     "name": "stdout",
     "output_type": "stream",
     "text": [
      "This and that and the other\n"
     ]
    }
   ],
   "source": [
    "res = \"This&that&the other\".replace('&',' and ')\n",
    "print(res)"
   ]
  },
  {
   "cell_type": "code",
   "execution_count": 18,
   "id": "91cca647-a4f2-433d-83d2-64b7d7a76452",
   "metadata": {},
   "outputs": [
    {
     "name": "stdout",
     "output_type": "stream",
     "text": [
      "This and that&the other\n"
     ]
    }
   ],
   "source": [
    "res = \"This&that&the other\".replace('&',' and ', 1)\n",
    "print(res)"
   ]
  },
  {
   "cell_type": "code",
   "execution_count": 33,
   "id": "21a4d78d-d8c0-4446-857a-06b5e0830715",
   "metadata": {},
   "outputs": [
    {
     "data": {
      "text/plain": [
       "'2'"
      ]
     },
     "execution_count": 33,
     "metadata": {},
     "output_type": "execute_result"
    }
   ],
   "source": [
    "x = '2'\n",
    "x"
   ]
  },
  {
   "cell_type": "code",
   "execution_count": 30,
   "id": "61b5931c-8d1e-44dd-8f0b-d5affa87dbbc",
   "metadata": {},
   "outputs": [
    {
     "data": {
      "text/plain": [
       "2"
      ]
     },
     "execution_count": 30,
     "metadata": {},
     "output_type": "execute_result"
    }
   ],
   "source": [
    "x = 2\n",
    "x"
   ]
  },
  {
   "cell_type": "code",
   "execution_count": 34,
   "id": "7ea5cd95-9a68-4f04-9f6b-da5f49b0d8ef",
   "metadata": {},
   "outputs": [
    {
     "data": {
      "text/plain": [
       "'This and that and the other'"
      ]
     },
     "execution_count": 34,
     "metadata": {},
     "output_type": "execute_result"
    }
   ],
   "source": [
    "res = \"This&that&the other\".replace('&',' and ', 2)\n",
    "res"
   ]
  },
  {
   "cell_type": "code",
   "execution_count": 35,
   "id": "3a09684c-f362-430f-8129-cfe3db98b975",
   "metadata": {},
   "outputs": [
    {
     "data": {
      "text/plain": [
       "\"There's fluff at the end\""
      ]
     },
     "execution_count": 35,
     "metadata": {},
     "output_type": "execute_result"
    }
   ],
   "source": [
    "\"   There's fluff at the end   \".strip()"
   ]
  },
  {
   "cell_type": "code",
   "execution_count": 19,
   "id": "8b379721-5810-4641-a774-79f92f359fbb",
   "metadata": {},
   "outputs": [
    {
     "data": {
      "text/plain": [
       "'Strip out '"
      ]
     },
     "execution_count": 19,
     "metadata": {},
     "output_type": "execute_result"
    }
   ],
   "source": [
    "str = \"Strip out ;,!\"\n",
    "newstr = str.strip(\";,!\")\n",
    "newstr"
   ]
  },
  {
   "cell_type": "code",
   "execution_count": 37,
   "id": "0aa422f0-9985-42d7-931a-c07e3ea0b453",
   "metadata": {},
   "outputs": [
    {
     "name": "stdout",
     "output_type": "stream",
     "text": [
      "Strip out ;,\n"
     ]
    }
   ],
   "source": [
    "newstr = str.strip(\";!\")\n",
    "print(newstr)"
   ]
  },
  {
   "cell_type": "markdown",
   "id": "655c4e6b-5a22-4863-9e84-6f71b99f16aa",
   "metadata": {},
   "source": [
    "---"
   ]
  },
  {
   "cell_type": "markdown",
   "id": "2db77938-0dea-4b7d-addd-90f2ed179d56",
   "metadata": {},
   "source": [
    "### Decisions"
   ]
  },
  {
   "cell_type": "code",
   "execution_count": 38,
   "id": "e6cc41f4-25b8-43d8-b285-d433f73df2cb",
   "metadata": {},
   "outputs": [
    {
     "name": "stdout",
     "output_type": "stream",
     "text": [
      "x < y\n",
      "outside the if\n"
     ]
    }
   ],
   "source": [
    "x = 2\n",
    "y = 3\n",
    "if x < y :\n",
    "    print('x < y')\n",
    "print('outside the if')"
   ]
  },
  {
   "cell_type": "code",
   "execution_count": 39,
   "id": "871108de-5c65-4b96-8349-84bcccb3b656",
   "metadata": {},
   "outputs": [
    {
     "name": "stdout",
     "output_type": "stream",
     "text": [
      "outside the if\n"
     ]
    }
   ],
   "source": [
    "x = 3\n",
    "y = 2\n",
    "if x < y :\n",
    "    print('x < y')\n",
    "print('outside the if')"
   ]
  },
  {
   "cell_type": "code",
   "execution_count": 40,
   "id": "c79d5654-6397-4590-bbb0-583048d0cab6",
   "metadata": {},
   "outputs": [
    {
     "name": "stdout",
     "output_type": "stream",
     "text": [
      "x > y\n"
     ]
    }
   ],
   "source": [
    "if x < y :\n",
    "    print('x < y')\n",
    "else :\n",
    "    print('x > y')"
   ]
  },
  {
   "cell_type": "code",
   "execution_count": 41,
   "id": "fd4db357-02dd-434c-903e-0bf20f1d02e9",
   "metadata": {},
   "outputs": [
    {
     "name": "stdout",
     "output_type": "stream",
     "text": [
      "x not < y, and y < z\n"
     ]
    }
   ],
   "source": [
    "z = 10\n",
    "if x < y :\n",
    "    print('x < y')\n",
    "elif y < z :\n",
    "    print('x not < y, and y < z')\n",
    "else :\n",
    "    print('x not < y, and y not < z')"
   ]
  },
  {
   "cell_type": "code",
   "execution_count": 42,
   "id": "f6d72f3a-8d28-4b65-b7ae-639bef2a91ca",
   "metadata": {},
   "outputs": [
    {
     "name": "stdout",
     "output_type": "stream",
     "text": [
      "x not < y, and y < z\n"
     ]
    }
   ],
   "source": [
    "z = 10\n",
    "if x < y :\n",
    "    print('x < y')\n",
    "else :\n",
    "    if y < z :\n",
    "        print('x not < y, and y < z')\n",
    "    else :\n",
    "        print('x not < y, and y not < z')"
   ]
  },
  {
   "cell_type": "code",
   "execution_count": 23,
   "id": "1877dcad-198f-43e3-b523-046164252599",
   "metadata": {},
   "outputs": [],
   "source": [
    "# arrange 3 numbers in ascending order\n",
    "def sort3(x, y, z) :\n",
    "    if x < y :\n",
    "        if (y < z) :\n",
    "            return x, y, z\n",
    "        elif x < z :\n",
    "            return x, z, y\n",
    "        else :\n",
    "            return z, x, y\n",
    "    else :\n",
    "        if x < z :\n",
    "            return y, x, z\n",
    "        elif y < z :\n",
    "            return y, z, x\n",
    "        else :\n",
    "            return z, y, x"
   ]
  },
  {
   "cell_type": "code",
   "execution_count": 24,
   "id": "a4523a5e-e856-4115-b800-59df30de7cf1",
   "metadata": {},
   "outputs": [
    {
     "name": "stdout",
     "output_type": "stream",
     "text": [
      "(1, 2, 3)\n",
      "(1, 2, 3)\n",
      "(1, 2, 3)\n",
      "(1, 2, 3)\n",
      "(1, 2, 3)\n",
      "(1, 2, 3)\n"
     ]
    }
   ],
   "source": [
    "print(sort3(1, 2, 3))\n",
    "print(sort3(1, 3, 2))\n",
    "print(sort3(2, 1, 3))\n",
    "print(sort3(2, 3, 1))\n",
    "print(sort3(3, 1, 2))\n",
    "print(sort3(3, 2, 1))"
   ]
  },
  {
   "cell_type": "code",
   "execution_count": 26,
   "id": "cb070333-e96b-4e49-a63a-535e177f3eda",
   "metadata": {},
   "outputs": [],
   "source": [
    "def grade(score) :\n",
    "    if score >= 90 :\n",
    "        grade = 'A'\n",
    "    elif score >= 80 :\n",
    "        grade = 'B'\n",
    "    elif score >= 70 :\n",
    "        grade = 'C'\n",
    "    elif score >= 60 :\n",
    "        grade = 'D'\n",
    "    else :\n",
    "        grade = 'F'\n",
    "    return grade"
   ]
  },
  {
   "cell_type": "code",
   "execution_count": 29,
   "id": "09888af9-cb2b-4141-8199-92d7cfd981f2",
   "metadata": {},
   "outputs": [
    {
     "name": "stdout",
     "output_type": "stream",
     "text": [
      "D\n",
      "A\n",
      "B\n",
      "D\n",
      "F\n"
     ]
    }
   ],
   "source": [
    "print(grade(62.5))\n",
    "print(grade(90))\n",
    "print(grade(89.99))\n",
    "print(grade(60))\n",
    "print(grade(59))"
   ]
  },
  {
   "cell_type": "code",
   "execution_count": 30,
   "id": "b09572ea-ee5f-422c-8685-3cd2e3e7ab32",
   "metadata": {},
   "outputs": [],
   "source": [
    "# simpler, using return to bail asap\n",
    "def grade(score) :\n",
    "    if score >= 90 :\n",
    "        return 'A'\n",
    "    if score >= 80 :\n",
    "        return 'B'\n",
    "    if score >= 70 :\n",
    "        return 'C'\n",
    "    if score >= 60 :\n",
    "        return'D'\n",
    "    return 'F'"
   ]
  },
  {
   "cell_type": "code",
   "execution_count": 31,
   "id": "6691c1f3-a20a-4be7-9208-4362a96447ff",
   "metadata": {},
   "outputs": [
    {
     "name": "stdout",
     "output_type": "stream",
     "text": [
      "D\n",
      "A\n",
      "B\n",
      "D\n",
      "F\n"
     ]
    }
   ],
   "source": [
    "print(grade(62.5))\n",
    "print(grade(90))\n",
    "print(grade(89.99))\n",
    "print(grade(60))\n",
    "print(grade(59))"
   ]
  },
  {
   "cell_type": "code",
   "execution_count": 32,
   "id": "9297bf9d-34c4-4c06-89fa-fa5ce6c8beaa",
   "metadata": {},
   "outputs": [],
   "source": [
    "def convert(temp, dir=\"ctof\") :\n",
    "    if dir == \"ctof\" :\n",
    "        res = temp*9/5 + 32\n",
    "    else :\n",
    "        res = (temp-32)*5/9\n",
    "    return res"
   ]
  },
  {
   "cell_type": "code",
   "execution_count": 38,
   "id": "f8115f40-6101-4cb6-ad35-51e801bdfe59",
   "metadata": {},
   "outputs": [
    {
     "name": "stdout",
     "output_type": "stream",
     "text": [
      "72.14\n",
      "6.111111111111111\n",
      "6.111111111111111\n"
     ]
    }
   ],
   "source": [
    "print(convert(22.3))\n",
    "print(convert(43, [(True, False), 23, '123abc']))\n",
    "print(convert(43, 'ftoc'))"
   ]
  },
  {
   "cell_type": "code",
   "execution_count": 52,
   "id": "7c3dea01-a825-4561-8c01-38be6c107299",
   "metadata": {},
   "outputs": [
    {
     "name": "stdout",
     "output_type": "stream",
     "text": [
      "6.11\n",
      "6.11\n"
     ]
    }
   ],
   "source": [
    "cval = convert(43, 'ftoc')\n",
    "print('{:.2f}'.format(cval))\n",
    "print(f'{cval:.2f}')"
   ]
  },
  {
   "cell_type": "code",
   "execution_count": 78,
   "id": "3cef78c8-dda4-4535-b4f5-78ce43c92ea0",
   "metadata": {},
   "outputs": [
    {
     "name": "stdout",
     "output_type": "stream",
     "text": [
      "6.111\n",
      "6.1111\n"
     ]
    }
   ],
   "source": [
    "cval = convert(43, 'ftoc')\n",
    "print('{0:.4g}'.format(cval))\n",
    "print(f'{cval:1.5g}')"
   ]
  },
  {
   "cell_type": "code",
   "execution_count": null,
   "id": "a1b5988d-3e77-4acb-9cdf-75d4e4b54b54",
   "metadata": {},
   "outputs": [],
   "source": []
  }
 ],
 "metadata": {
  "kernelspec": {
   "display_name": "Python 3",
   "language": "python",
   "name": "python3"
  },
  "language_info": {
   "codemirror_mode": {
    "name": "ipython",
    "version": 3
   },
   "file_extension": ".py",
   "mimetype": "text/x-python",
   "name": "python",
   "nbconvert_exporter": "python",
   "pygments_lexer": "ipython3",
   "version": "3.8.8"
  }
 },
 "nbformat": 4,
 "nbformat_minor": 5
}
