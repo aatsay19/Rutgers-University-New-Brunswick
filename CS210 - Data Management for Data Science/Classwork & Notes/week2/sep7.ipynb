{
 "cells": [
  {
   "cell_type": "code",
   "execution_count": 1,
   "id": "2d1611d6-6166-46ce-8d8e-82171191ded5",
   "metadata": {},
   "outputs": [
    {
     "data": {
      "text/plain": [
       "3"
      ]
     },
     "execution_count": 1,
     "metadata": {},
     "output_type": "execute_result"
    }
   ],
   "source": [
    "3"
   ]
  },
  {
   "cell_type": "code",
   "execution_count": 2,
   "id": "164d5f2f-bc78-4db5-8255-8dad9a9c3b60",
   "metadata": {},
   "outputs": [
    {
     "data": {
      "text/plain": [
       "6"
      ]
     },
     "execution_count": 2,
     "metadata": {},
     "output_type": "execute_result"
    }
   ],
   "source": [
    "3 + 3"
   ]
  },
  {
   "cell_type": "code",
   "execution_count": 3,
   "id": "a014fe5b-7334-4f23-a044-efb836bd0505",
   "metadata": {},
   "outputs": [],
   "source": [
    "x = 3 + 3"
   ]
  },
  {
   "cell_type": "code",
   "execution_count": 4,
   "id": "bfec8123-91fe-4c54-8aec-093b053fc749",
   "metadata": {},
   "outputs": [
    {
     "data": {
      "text/plain": [
       "6"
      ]
     },
     "execution_count": 4,
     "metadata": {},
     "output_type": "execute_result"
    }
   ],
   "source": [
    "x"
   ]
  },
  {
   "cell_type": "markdown",
   "id": "0f4510cc-158a-4315-9f3f-33134ed29fe4",
   "metadata": {},
   "source": [
    "In Notebook, simply typing name of variable will print its value"
   ]
  },
  {
   "cell_type": "code",
   "execution_count": 7,
   "id": "27d90968-e9ad-4e99-8845-a3d9999f33cc",
   "metadata": {},
   "outputs": [
    {
     "data": {
      "text/plain": [
       "11"
      ]
     },
     "execution_count": 7,
     "metadata": {},
     "output_type": "execute_result"
    }
   ],
   "source": [
    "y = 6 + 5 # assign y to sum of 6 and 5\n",
    "y"
   ]
  },
  {
   "cell_type": "code",
   "execution_count": 8,
   "id": "f4afe327-36ed-431a-8ad0-edc2ae4c6311",
   "metadata": {},
   "outputs": [
    {
     "name": "stdout",
     "output_type": "stream",
     "text": [
      "6\n"
     ]
    }
   ],
   "source": [
    "print(x) # need to do explicit print if writing code in file"
   ]
  },
  {
   "cell_type": "code",
   "execution_count": 9,
   "id": "82b47520-bd63-4da8-89ba-49ebb326beb6",
   "metadata": {},
   "outputs": [
    {
     "data": {
      "text/plain": [
       "int"
      ]
     },
     "execution_count": 9,
     "metadata": {},
     "output_type": "execute_result"
    }
   ],
   "source": [
    "type(x)"
   ]
  },
  {
   "cell_type": "code",
   "execution_count": 11,
   "id": "f3486041-41a5-4379-ac10-ee2c51bed412",
   "metadata": {},
   "outputs": [
    {
     "name": "stdout",
     "output_type": "stream",
     "text": [
      "2 4\n"
     ]
    }
   ],
   "source": [
    "a = 2\n",
    "p = 2 * 2\n",
    "print(a, p)"
   ]
  },
  {
   "cell_type": "code",
   "execution_count": 12,
   "id": "65307e64-23cc-447d-9e78-99bcc98c2e78",
   "metadata": {},
   "outputs": [
    {
     "name": "stdout",
     "output_type": "stream",
     "text": [
      "2 , 4\n",
      "2 , 4\n"
     ]
    }
   ],
   "source": [
    "print(a,',',p)\n",
    "print(a,\",\",p)"
   ]
  },
  {
   "cell_type": "code",
   "execution_count": 13,
   "id": "a35a2631-aefe-4a6a-a8e8-ae07abc00919",
   "metadata": {},
   "outputs": [
    {
     "name": "stdout",
     "output_type": "stream",
     "text": [
      "'\n",
      "\"\n"
     ]
    }
   ],
   "source": [
    "print(\"'\")\n",
    "print('\"')"
   ]
  },
  {
   "cell_type": "code",
   "execution_count": 14,
   "id": "851d24ff-5a3e-40a2-be75-51384584618f",
   "metadata": {},
   "outputs": [
    {
     "data": {
      "text/plain": [
       "1.5"
      ]
     },
     "execution_count": 14,
     "metadata": {},
     "output_type": "execute_result"
    }
   ],
   "source": [
    "3 / 2"
   ]
  },
  {
   "cell_type": "code",
   "execution_count": 15,
   "id": "b59763c7-cbb4-49ed-b62b-0b3c592bd12d",
   "metadata": {},
   "outputs": [
    {
     "data": {
      "text/plain": [
       "1"
      ]
     },
     "execution_count": 15,
     "metadata": {},
     "output_type": "execute_result"
    }
   ],
   "source": [
    "3 // 2"
   ]
  },
  {
   "cell_type": "code",
   "execution_count": 16,
   "id": "9196d462-f802-4558-a7ba-124a9bc5565b",
   "metadata": {},
   "outputs": [
    {
     "ename": "ZeroDivisionError",
     "evalue": "division by zero",
     "output_type": "error",
     "traceback": [
      "\u001b[1;31m---------------------------------------------------------------------------\u001b[0m",
      "\u001b[1;31mZeroDivisionError\u001b[0m                         Traceback (most recent call last)",
      "\u001b[1;32m<ipython-input-16-e1965806ec03>\u001b[0m in \u001b[0;36m<module>\u001b[1;34m\u001b[0m\n\u001b[1;32m----> 1\u001b[1;33m \u001b[1;36m3\u001b[0m \u001b[1;33m/\u001b[0m \u001b[1;36m0\u001b[0m\u001b[1;33m\u001b[0m\u001b[1;33m\u001b[0m\u001b[0m\n\u001b[0m",
      "\u001b[1;31mZeroDivisionError\u001b[0m: division by zero"
     ]
    }
   ],
   "source": [
    "3 / 0"
   ]
  },
  {
   "cell_type": "code",
   "execution_count": 17,
   "id": "26b40e60-e844-4fb6-9a59-e65473ac057a",
   "metadata": {},
   "outputs": [
    {
     "data": {
      "text/plain": [
       "3"
      ]
     },
     "execution_count": 17,
     "metadata": {},
     "output_type": "execute_result"
    }
   ],
   "source": [
    "15 % 4"
   ]
  },
  {
   "cell_type": "code",
   "execution_count": 18,
   "id": "bfedb8f6-57f9-4c93-accd-b73648556822",
   "metadata": {},
   "outputs": [
    {
     "data": {
      "text/plain": [
       "2.4000000000000004"
      ]
     },
     "execution_count": 18,
     "metadata": {},
     "output_type": "execute_result"
    }
   ],
   "source": [
    "7.4 % 5"
   ]
  },
  {
   "cell_type": "code",
   "execution_count": 19,
   "id": "b01970ad-16d9-450a-b8ff-db4c2aa37bc3",
   "metadata": {},
   "outputs": [
    {
     "data": {
      "text/plain": [
       "0.0"
      ]
     },
     "execution_count": 19,
     "metadata": {},
     "output_type": "execute_result"
    }
   ],
   "source": [
    "2.4 % 1.2"
   ]
  },
  {
   "cell_type": "code",
   "execution_count": 20,
   "id": "c1d89a21-84f3-4cab-b194-6a2ce836a407",
   "metadata": {
    "tags": []
   },
   "outputs": [
    {
     "data": {
      "text/plain": [
       "0.19999999999999973"
      ]
     },
     "execution_count": 20,
     "metadata": {},
     "output_type": "execute_result"
    }
   ],
   "source": [
    "2.4 % 1.1"
   ]
  },
  {
   "cell_type": "markdown",
   "id": "6a823fce-454a-4742-9574-5bbed2240bf5",
   "metadata": {
    "tags": []
   },
   "source": [
    "## Arithmetic expressions, math functions"
   ]
  },
  {
   "cell_type": "code",
   "execution_count": 21,
   "id": "1f3e19a9-f21a-4675-b2eb-49c143dbcb6c",
   "metadata": {},
   "outputs": [
    {
     "data": {
      "text/plain": [
       "17"
      ]
     },
     "execution_count": 21,
     "metadata": {},
     "output_type": "execute_result"
    }
   ],
   "source": [
    "2 + 3 * 5"
   ]
  },
  {
   "cell_type": "code",
   "execution_count": 22,
   "id": "346a970b-f116-4b80-be6e-57da99cfb1ef",
   "metadata": {},
   "outputs": [
    {
     "data": {
      "text/plain": [
       "25"
      ]
     },
     "execution_count": 22,
     "metadata": {},
     "output_type": "execute_result"
    }
   ],
   "source": [
    "(2 + 3) * 5"
   ]
  },
  {
   "cell_type": "code",
   "execution_count": 23,
   "id": "9ed0bc9a-50e3-41b0-9dba-e7598bcd9ecb",
   "metadata": {},
   "outputs": [
    {
     "data": {
      "text/plain": [
       "9"
      ]
     },
     "execution_count": 23,
     "metadata": {},
     "output_type": "execute_result"
    }
   ],
   "source": [
    "3 ** 2  # power"
   ]
  },
  {
   "cell_type": "code",
   "execution_count": 24,
   "id": "565214ff-3eae-4a7a-a302-04d3e93d1a26",
   "metadata": {},
   "outputs": [
    {
     "data": {
      "text/plain": [
       "11.211578456539659"
      ]
     },
     "execution_count": 24,
     "metadata": {},
     "output_type": "execute_result"
    }
   ],
   "source": [
    "3 ** 2.2"
   ]
  },
  {
   "cell_type": "code",
   "execution_count": 1,
   "id": "30e57d26-8b47-4e27-9628-89fe88a8c128",
   "metadata": {},
   "outputs": [
    {
     "data": {
      "text/plain": [
       "-9"
      ]
     },
     "execution_count": 1,
     "metadata": {},
     "output_type": "execute_result"
    }
   ],
   "source": [
    "-3 ** 2"
   ]
  },
  {
   "cell_type": "code",
   "execution_count": 2,
   "id": "05353e32-ba09-4d37-b7c5-20a55521297b",
   "metadata": {},
   "outputs": [
    {
     "data": {
      "text/plain": [
       "-5.7243340223994625"
      ]
     },
     "execution_count": 2,
     "metadata": {},
     "output_type": "execute_result"
    }
   ],
   "source": [
    "-3.2 ** 1.5"
   ]
  },
  {
   "cell_type": "markdown",
   "id": "6fb52ac0-bc2b-4390-bfc8-146681bbcaea",
   "metadata": {
    "tags": []
   },
   "source": [
    "__Casting__"
   ]
  },
  {
   "cell_type": "code",
   "execution_count": 2,
   "id": "d2abec37-f583-4ad6-97a9-b39f58552019",
   "metadata": {},
   "outputs": [
    {
     "data": {
      "text/plain": [
       "5"
      ]
     },
     "execution_count": 2,
     "metadata": {},
     "output_type": "execute_result"
    }
   ],
   "source": [
    "x = int(5.5)  # cast a real number to an integer\n",
    "x"
   ]
  },
  {
   "cell_type": "code",
   "execution_count": 3,
   "id": "b6251243-1d08-4126-8917-6d1318f22c2c",
   "metadata": {},
   "outputs": [
    {
     "data": {
      "text/plain": [
       "5"
      ]
     },
     "execution_count": 3,
     "metadata": {},
     "output_type": "execute_result"
    }
   ],
   "source": [
    "x = int(5.9)\n",
    "x"
   ]
  },
  {
   "cell_type": "markdown",
   "id": "fcf2f0e6-567b-44d2-a23f-9645fe4b7f6e",
   "metadata": {},
   "source": [
    "__Using the math Module__"
   ]
  },
  {
   "cell_type": "code",
   "execution_count": 2,
   "id": "4f19fe66-991b-47d1-8148-a9e6062d3883",
   "metadata": {},
   "outputs": [],
   "source": [
    "import math"
   ]
  },
  {
   "cell_type": "code",
   "execution_count": 3,
   "id": "8c904e64-ad34-47ad-ac66-60bf0f675c16",
   "metadata": {},
   "outputs": [
    {
     "name": "stdout",
     "output_type": "stream",
     "text": [
      "9.0\n"
     ]
    }
   ],
   "source": [
    "print(math.pow(3, 2))"
   ]
  },
  {
   "cell_type": "code",
   "execution_count": 4,
   "id": "b96be9c6-17c9-4a40-8c89-2f714e9d3e95",
   "metadata": {},
   "outputs": [
    {
     "name": "stdout",
     "output_type": "stream",
     "text": [
      "10.240000000000002\n"
     ]
    }
   ],
   "source": [
    "print(math.pow(-3.2, 2))"
   ]
  },
  {
   "cell_type": "code",
   "execution_count": 5,
   "id": "ebf59488-280a-42fb-b03d-709181cdce5f",
   "metadata": {},
   "outputs": [
    {
     "ename": "ValueError",
     "evalue": "math domain error",
     "output_type": "error",
     "traceback": [
      "\u001b[1;31m---------------------------------------------------------------------------\u001b[0m",
      "\u001b[1;31mValueError\u001b[0m                                Traceback (most recent call last)",
      "\u001b[1;32m<ipython-input-5-450bc7fcc5e7>\u001b[0m in \u001b[0;36m<module>\u001b[1;34m\u001b[0m\n\u001b[1;32m----> 1\u001b[1;33m \u001b[0mprint\u001b[0m\u001b[1;33m(\u001b[0m\u001b[0mmath\u001b[0m\u001b[1;33m.\u001b[0m\u001b[0mpow\u001b[0m\u001b[1;33m(\u001b[0m\u001b[1;33m-\u001b[0m\u001b[1;36m3.2\u001b[0m\u001b[1;33m,\u001b[0m \u001b[1;36m1.5\u001b[0m\u001b[1;33m)\u001b[0m\u001b[1;33m)\u001b[0m\u001b[1;33m\u001b[0m\u001b[1;33m\u001b[0m\u001b[0m\n\u001b[0m",
      "\u001b[1;31mValueError\u001b[0m: math domain error"
     ]
    }
   ],
   "source": [
    "print(math.pow(-3.2, 1.5))"
   ]
  },
  {
   "cell_type": "markdown",
   "id": "f1c15d3d-3ff7-4505-a167-5b93b6cb83fd",
   "metadata": {},
   "source": [
    "## Strings"
   ]
  },
  {
   "cell_type": "code",
   "execution_count": 6,
   "id": "54e25935-fb55-4e57-b105-51ec24f612a5",
   "metadata": {},
   "outputs": [],
   "source": [
    "wr = 'wrangle'"
   ]
  },
  {
   "cell_type": "code",
   "execution_count": 7,
   "id": "fa11c520-a8e4-441a-a078-94da5602bddf",
   "metadata": {},
   "outputs": [
    {
     "name": "stdout",
     "output_type": "stream",
     "text": [
      "line 1,\n",
      "line 2, and\n",
      "line 3\n"
     ]
    }
   ],
   "source": [
    "multi_line = \"\"\"line 1,\n",
    "line 2, and\n",
    "line 3\"\"\"\n",
    "print(multi_line)"
   ]
  },
  {
   "cell_type": "code",
   "execution_count": 8,
   "id": "3f23879f-8820-4fa5-8e25-68d920f50ef6",
   "metadata": {},
   "outputs": [
    {
     "data": {
      "text/plain": [
       "'line 1,\\nline 2, and\\nline 3'"
      ]
     },
     "execution_count": 8,
     "metadata": {},
     "output_type": "execute_result"
    }
   ],
   "source": [
    "lines = 'line 1,\\nline 2, and\\nline 3'\n",
    "lines"
   ]
  },
  {
   "cell_type": "code",
   "execution_count": 9,
   "id": "f62d501a-1d8d-4fcd-b91a-8626e0b0ea55",
   "metadata": {},
   "outputs": [
    {
     "name": "stdout",
     "output_type": "stream",
     "text": [
      "line 1,\n",
      "line 2, and\n",
      "line 3\n"
     ]
    }
   ],
   "source": [
    "print(lines)"
   ]
  },
  {
   "cell_type": "code",
   "execution_count": 1,
   "id": "f5795160-0c04-473f-b0f4-49456e84f319",
   "metadata": {},
   "outputs": [
    {
     "name": "stdout",
     "output_type": "stream",
     "text": [
      "before tab\tand after tab\n"
     ]
    }
   ],
   "source": [
    "tabbed_str = 'before tab\\tand after tab'\n",
    "print(tabbed_str)"
   ]
  },
  {
   "cell_type": "code",
   "execution_count": 2,
   "id": "173cb334-435d-41bd-9e61-5691d38ccdc2",
   "metadata": {},
   "outputs": [
    {
     "ename": "TypeError",
     "evalue": "can only concatenate str (not \"int\") to str",
     "output_type": "error",
     "traceback": [
      "\u001b[1;31m---------------------------------------------------------------------------\u001b[0m",
      "\u001b[1;31mTypeError\u001b[0m                                 Traceback (most recent call last)",
      "\u001b[1;32m<ipython-input-2-3cb401a88f42>\u001b[0m in \u001b[0;36m<module>\u001b[1;34m\u001b[0m\n\u001b[1;32m----> 1\u001b[1;33m \u001b[0mprint\u001b[0m\u001b[1;33m(\u001b[0m\u001b[1;34m'cs'\u001b[0m \u001b[1;33m+\u001b[0m \u001b[1;36m210\u001b[0m\u001b[1;33m)\u001b[0m\u001b[1;33m\u001b[0m\u001b[1;33m\u001b[0m\u001b[0m\n\u001b[0m",
      "\u001b[1;31mTypeError\u001b[0m: can only concatenate str (not \"int\") to str"
     ]
    }
   ],
   "source": [
    "print('cs' + 210)"
   ]
  },
  {
   "cell_type": "code",
   "execution_count": 3,
   "id": "ce9002f3-7ff6-4def-8bd4-8adedea279ed",
   "metadata": {},
   "outputs": [
    {
     "name": "stdout",
     "output_type": "stream",
     "text": [
      "cs210\n"
     ]
    }
   ],
   "source": [
    "print('cs' + \"210\")"
   ]
  },
  {
   "cell_type": "code",
   "execution_count": 6,
   "id": "75ad7cdf-72d1-481a-81d7-95fa707e4ef8",
   "metadata": {},
   "outputs": [
    {
     "name": "stdout",
     "output_type": "stream",
     "text": [
      "cs210\n"
     ]
    }
   ],
   "source": [
    "print('cs' + str(210))"
   ]
  },
  {
   "cell_type": "markdown",
   "id": "a64443bc-d7ff-4b5f-aefa-f62962d652c1",
   "metadata": {},
   "source": [
    "**Formatting output**"
   ]
  },
  {
   "cell_type": "code",
   "execution_count": 7,
   "id": "7a44d101-d78c-4d3e-91c5-7edb732a8832",
   "metadata": {},
   "outputs": [
    {
     "name": "stdout",
     "output_type": "stream",
     "text": [
      "15 / 10 = 1.5\n"
     ]
    }
   ],
   "source": [
    "m = 15\n",
    "n = 10\n",
    "print(\"{0} / {1} = {2}\".format(m, n, m / n))"
   ]
  },
  {
   "cell_type": "code",
   "execution_count": 8,
   "id": "574743e9-9d7b-41c5-9ba2-60b74b3cfda3",
   "metadata": {},
   "outputs": [
    {
     "name": "stdout",
     "output_type": "stream",
     "text": [
      "15 / 10 = 1.5\n"
     ]
    }
   ],
   "source": [
    "print(f\"{m} / {n} = {m / n}\")  # f string for formatting, Python 3.x"
   ]
  },
  {
   "cell_type": "code",
   "execution_count": 9,
   "id": "66ae4d41-a732-44de-bf1b-ef5ef74f9687",
   "metadata": {},
   "outputs": [
    {
     "data": {
      "text/plain": [
       "5"
      ]
     },
     "execution_count": 9,
     "metadata": {},
     "output_type": "execute_result"
    }
   ],
   "source": [
    "x = int('5')\n",
    "x"
   ]
  },
  {
   "cell_type": "code",
   "execution_count": 10,
   "id": "7ec6c3e1-de33-4720-ac47-1d0e27c1a08f",
   "metadata": {},
   "outputs": [
    {
     "data": {
      "text/plain": [
       "int"
      ]
     },
     "execution_count": 10,
     "metadata": {},
     "output_type": "execute_result"
    }
   ],
   "source": [
    "type(x)"
   ]
  },
  {
   "cell_type": "code",
   "execution_count": 11,
   "id": "4d2acb8b-8fbb-41bf-8d54-1188e9d54b79",
   "metadata": {},
   "outputs": [
    {
     "data": {
      "text/plain": [
       "str"
      ]
     },
     "execution_count": 11,
     "metadata": {},
     "output_type": "execute_result"
    }
   ],
   "source": [
    "type('5')"
   ]
  },
  {
   "cell_type": "code",
   "execution_count": 12,
   "id": "38bec225-68c6-42af-8853-e3213faff264",
   "metadata": {},
   "outputs": [
    {
     "data": {
      "text/plain": [
       "-5.5"
      ]
     },
     "execution_count": 12,
     "metadata": {},
     "output_type": "execute_result"
    }
   ],
   "source": [
    "y = float('-5.5')\n",
    "y"
   ]
  },
  {
   "cell_type": "code",
   "execution_count": 13,
   "id": "52824201-2664-465d-a29a-e2cbf44ff914",
   "metadata": {},
   "outputs": [
    {
     "data": {
      "text/plain": [
       "float"
      ]
     },
     "execution_count": 13,
     "metadata": {},
     "output_type": "execute_result"
    }
   ],
   "source": [
    "type(y)"
   ]
  },
  {
   "cell_type": "code",
   "execution_count": 14,
   "id": "313741c8-a9de-4b55-99ba-98a40884189d",
   "metadata": {},
   "outputs": [
    {
     "ename": "NameError",
     "evalue": "name 'double' is not defined",
     "output_type": "error",
     "traceback": [
      "\u001b[1;31m---------------------------------------------------------------------------\u001b[0m",
      "\u001b[1;31mNameError\u001b[0m                                 Traceback (most recent call last)",
      "\u001b[1;32m<ipython-input-14-188c397a325f>\u001b[0m in \u001b[0;36m<module>\u001b[1;34m\u001b[0m\n\u001b[1;32m----> 1\u001b[1;33m \u001b[0mz\u001b[0m \u001b[1;33m=\u001b[0m \u001b[0mdouble\u001b[0m\u001b[1;33m(\u001b[0m\u001b[1;34m\"-5.5\"\u001b[0m\u001b[1;33m)\u001b[0m\u001b[1;33m\u001b[0m\u001b[1;33m\u001b[0m\u001b[0m\n\u001b[0m",
      "\u001b[1;31mNameError\u001b[0m: name 'double' is not defined"
     ]
    }
   ],
   "source": [
    "z = double(\"-5.5\")"
   ]
  },
  {
   "cell_type": "code",
   "execution_count": 15,
   "id": "54378ba4-4c17-4669-81d8-4bbd64145271",
   "metadata": {},
   "outputs": [
    {
     "name": "stdout",
     "output_type": "stream",
     "text": [
      "<class 'str'> , <class 'int'>\n"
     ]
    }
   ],
   "source": [
    "abctype = type('abc')\n",
    "x = 5\n",
    "xtype = type(x)\n",
    "print(abctype, ',', xtype)"
   ]
  },
  {
   "cell_type": "code",
   "execution_count": 10,
   "id": "e15559e3-0a1b-4e0e-ac77-e954b6cdb542",
   "metadata": {},
   "outputs": [
    {
     "name": "stdout",
     "output_type": "stream",
     "text": [
      "False\n"
     ]
    }
   ],
   "source": [
    "print(type('abc') == \"<class 'str'>\")"
   ]
  },
  {
   "cell_type": "markdown",
   "id": "9a36d672-6782-43e9-ab1b-0970abd91eeb",
   "metadata": {},
   "source": [
    "---"
   ]
  },
  {
   "cell_type": "markdown",
   "id": "05969810-77aa-4fc2-aba4-250d4ec386ab",
   "metadata": {},
   "source": [
    "## Boolean values and expressions "
   ]
  },
  {
   "cell_type": "code",
   "execution_count": 12,
   "id": "d16faf76-c3c2-4c72-ad58-9ace7c9c7c89",
   "metadata": {},
   "outputs": [
    {
     "name": "stdout",
     "output_type": "stream",
     "text": [
      "True , False\n"
     ]
    }
   ],
   "source": [
    "tr = True\n",
    "fl = False\n",
    "print(tr, ',', fl)"
   ]
  },
  {
   "cell_type": "code",
   "execution_count": 13,
   "id": "5f6fc837-960c-43d1-a4da-3540a3d97bbc",
   "metadata": {},
   "outputs": [
    {
     "name": "stdout",
     "output_type": "stream",
     "text": [
      "<class 'bool'>\n"
     ]
    }
   ],
   "source": [
    "print(type(tr))"
   ]
  },
  {
   "cell_type": "code",
   "execution_count": 15,
   "id": "f7cbcc41-3808-4f8a-aabd-782e0674b306",
   "metadata": {},
   "outputs": [
    {
     "name": "stdout",
     "output_type": "stream",
     "text": [
      "[True, False, False, True, True]\n",
      "<class 'list'>\n"
     ]
    }
   ],
   "source": [
    "bool_list = [True, False, False, True, True]\n",
    "print(bool_list)\n",
    "print(type(bool_list))"
   ]
  },
  {
   "cell_type": "code",
   "execution_count": 21,
   "id": "44ecc80b-06f4-449c-a1db-5489495387d9",
   "metadata": {},
   "outputs": [
    {
     "data": {
      "text/plain": [
       "False"
      ]
     },
     "execution_count": 21,
     "metadata": {},
     "output_type": "execute_result"
    }
   ],
   "source": [
    "2 == 3"
   ]
  },
  {
   "cell_type": "code",
   "execution_count": 22,
   "id": "500857c9-4731-4eab-b95e-91352f78f872",
   "metadata": {},
   "outputs": [
    {
     "data": {
      "text/plain": [
       "True"
      ]
     },
     "execution_count": 22,
     "metadata": {},
     "output_type": "execute_result"
    }
   ],
   "source": [
    "2 != 3"
   ]
  },
  {
   "cell_type": "code",
   "execution_count": 17,
   "id": "5f8fa792-6ed3-437d-ac74-d538237c74bd",
   "metadata": {},
   "outputs": [],
   "source": [
    "num1 = 9\n",
    "num2 = -10\n",
    "num3 = 15"
   ]
  },
  {
   "cell_type": "code",
   "execution_count": 24,
   "id": "8a1ced37-eecb-49b3-a385-db32046f707c",
   "metadata": {},
   "outputs": [
    {
     "data": {
      "text/plain": [
       "True"
      ]
     },
     "execution_count": 24,
     "metadata": {},
     "output_type": "execute_result"
    }
   ],
   "source": [
    "res = num3 > 0\n",
    "res"
   ]
  },
  {
   "cell_type": "code",
   "execution_count": 25,
   "id": "53148327-beb0-4690-afac-26be0ae1f07f",
   "metadata": {},
   "outputs": [
    {
     "data": {
      "text/plain": [
       "False"
      ]
     },
     "execution_count": 25,
     "metadata": {},
     "output_type": "execute_result"
    }
   ],
   "source": [
    "num1 > 0 and num2 > 0"
   ]
  },
  {
   "cell_type": "code",
   "execution_count": 26,
   "id": "a121eabf-68f7-4ac1-be59-db94bec51dae",
   "metadata": {},
   "outputs": [
    {
     "data": {
      "text/plain": [
       "True"
      ]
     },
     "execution_count": 26,
     "metadata": {},
     "output_type": "execute_result"
    }
   ],
   "source": [
    "num1 > 0 or num2 > 0"
   ]
  },
  {
   "cell_type": "code",
   "execution_count": 19,
   "id": "f26081e2-44e0-4489-8bf6-6e635b15b1d4",
   "metadata": {},
   "outputs": [
    {
     "data": {
      "text/plain": [
       "True"
      ]
     },
     "execution_count": 19,
     "metadata": {},
     "output_type": "execute_result"
    }
   ],
   "source": [
    "not num1 < 0"
   ]
  },
  {
   "cell_type": "code",
   "execution_count": 28,
   "id": "c8b88fa6-6c27-4b61-b70e-582da5e02af3",
   "metadata": {},
   "outputs": [
    {
     "data": {
      "text/plain": [
       "True"
      ]
     },
     "execution_count": 28,
     "metadata": {},
     "output_type": "execute_result"
    }
   ],
   "source": [
    "not (num1 < 0)"
   ]
  },
  {
   "cell_type": "code",
   "execution_count": 29,
   "id": "da7cb110-fce1-4704-bed6-491ec35c5942",
   "metadata": {},
   "outputs": [],
   "source": [
    "num1 = 9\n",
    "num2 = -10\n",
    "num3 = 15"
   ]
  },
  {
   "cell_type": "code",
   "execution_count": 20,
   "id": "872c316e-0ecf-4177-a616-9b461927fab3",
   "metadata": {},
   "outputs": [
    {
     "data": {
      "text/plain": [
       "True"
      ]
     },
     "execution_count": 20,
     "metadata": {},
     "output_type": "execute_result"
    }
   ],
   "source": [
    "not num1 < 0 or num2 > 0  # 'not' precedes 'and' which precedes 'or'"
   ]
  },
  {
   "cell_type": "code",
   "execution_count": 21,
   "id": "b86cbd29-b063-456e-be08-4810218bac30",
   "metadata": {},
   "outputs": [
    {
     "data": {
      "text/plain": [
       "True"
      ]
     },
     "execution_count": 21,
     "metadata": {},
     "output_type": "execute_result"
    }
   ],
   "source": [
    "not (num1 < 0 or num2 > 0)"
   ]
  },
  {
   "cell_type": "code",
   "execution_count": 33,
   "id": "72e1dda1-970f-49eb-8486-b05a6263f80f",
   "metadata": {},
   "outputs": [
    {
     "data": {
      "text/plain": [
       "True"
      ]
     },
     "execution_count": 33,
     "metadata": {},
     "output_type": "execute_result"
    }
   ],
   "source": [
    "num1 < 0 and num3 < 0 or num2 < 0"
   ]
  },
  {
   "cell_type": "code",
   "execution_count": 34,
   "id": "8e41ac39-0d95-4197-a4d0-1c4e3efc9b06",
   "metadata": {},
   "outputs": [
    {
     "data": {
      "text/plain": [
       "False"
      ]
     },
     "execution_count": 34,
     "metadata": {},
     "output_type": "execute_result"
    }
   ],
   "source": [
    "num1 < 0 and (num3 < 0 or num2 < 0)"
   ]
  },
  {
   "cell_type": "markdown",
   "id": "86d17e06-a80e-4719-b942-ca46fc69afc7",
   "metadata": {},
   "source": [
    "## Functions"
   ]
  },
  {
   "cell_type": "code",
   "execution_count": 35,
   "id": "2b323279-0ef1-48da-b105-ae01d228f34b",
   "metadata": {},
   "outputs": [],
   "source": [
    "def double(x) :\n",
    "    return x * 2"
   ]
  },
  {
   "cell_type": "code",
   "execution_count": 36,
   "id": "ef511726-9e50-45ee-a48e-07043a132f81",
   "metadata": {},
   "outputs": [
    {
     "name": "stdout",
     "output_type": "stream",
     "text": [
      "10 , 14\n"
     ]
    }
   ],
   "source": [
    "a = 5\n",
    "adoub = double(a)  # call double\n",
    "doub7 = double(7)\n",
    "print(adoub, ',', doub7)"
   ]
  },
  {
   "cell_type": "code",
   "execution_count": 37,
   "id": "b57e0358-4af9-4e58-8319-9d2224d5ee7f",
   "metadata": {},
   "outputs": [
    {
     "name": "stdout",
     "output_type": "stream",
     "text": [
      "6\n"
     ]
    }
   ],
   "source": [
    "x = 3\n",
    "print(double(x))"
   ]
  },
  {
   "cell_type": "code",
   "execution_count": null,
   "id": "3ddb4fc6-8a4a-4c95-9f54-bc68fd039eda",
   "metadata": {},
   "outputs": [],
   "source": []
  }
 ],
 "metadata": {
  "kernelspec": {
   "display_name": "Python 3",
   "language": "python",
   "name": "python3"
  },
  "language_info": {
   "codemirror_mode": {
    "name": "ipython",
    "version": 3
   },
   "file_extension": ".py",
   "mimetype": "text/x-python",
   "name": "python",
   "nbconvert_exporter": "python",
   "pygments_lexer": "ipython3",
   "version": "3.8.8"
  }
 },
 "nbformat": 4,
 "nbformat_minor": 5
}
