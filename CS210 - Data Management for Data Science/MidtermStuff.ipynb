{
 "cells": [
  {
   "cell_type": "code",
   "execution_count": 66,
   "id": "88e28f5c-3dfb-4595-91d0-9504dda6e0dd",
   "metadata": {},
   "outputs": [],
   "source": [
    "def getShots(filename, lower = 10000, upper = 500000) :\n",
    "    count = 0\n",
    "    \n",
    "    file = open(filename)\n",
    "    lines = file.readlines()\n",
    "    for line in lines :\n",
    "        _list = str(line)\n",
    "        list2 = _list.split(':')\n",
    "        for i in range(3) :\n",
    "            tempvar = list2[i].strip()\n",
    "            # print(tempvar)\n",
    "            if i == 0 :\n",
    "                tempvar2 = tempvar.split()\n",
    "                tempvar2[0] = tempvar2[0].lower()\n",
    "                tempvar2[0] = tempvar2[0][:3]\n",
    "                print(tempvar2[0])\n",
    "                if (tempvar2[0] == 'jan') :\n",
    "                    month = '01'\n",
    "                if (tempvar2[0] == 'feb') :\n",
    "                    month = '02'\n",
    "                if (tempvar2[0] == 'mar') :\n",
    "                    month = '03'\n",
    "                if (tempvar2[0] == 'apr') :\n",
    "                    month = '04'\n",
    "                if (tempvar2[0] == 'may') :\n",
    "                    month = '05'\n",
    "                if (tempvar2[0] == 'jun') :\n",
    "                    month = '06'\n",
    "                if (tempvar2[0] == 'jul') :\n",
    "                    month = '07'\n",
    "                if (tempvar2[0] == 'aug') :\n",
    "                    month = '08'\n",
    "                if (tempvar2[0] == 'sep') :\n",
    "                    month = '09'\n",
    "                if (tempvar2[0] == 'oct') :\n",
    "                    month = '10'\n",
    "                if (tempvar2[0] == 'dec') :\n",
    "                    month = '11'\n",
    "                if (tempvar2[0] == 'jan') :\n",
    "                    month = '12'\n",
    "                tempvar2[1] = int(tempvar2[1])\n",
    "                if tempvar2[1] < 10 :\n",
    "                    #tempvar2[1].replace('0', '')\n",
    "                    tempstr = '0' + str(tempvar2[1])\n",
    "                    tempvar2[1] = tempstr\n",
    "                    day = tempvar2[1]\n",
    "                print(tempvar2[1])\n",
    "            elif i == 1 :\n",
    "                # remove commas from numbers with commas\n",
    "                count = count + 1\n",
    "            else :\n",
    "                # convert vaccine name to string if it isnt already\n",
    "                count = count + 1\n",
    "        \n",
    "        print(f\"('{month}'/{day}, {shots}, '{vaccine}')\")\n",
    "    return"
   ]
  },
  {
   "cell_type": "code",
   "execution_count": 65,
   "id": "9d79bc95-c90c-4c52-a1ad-bb049ec1eb56",
   "metadata": {},
   "outputs": [
    {
     "name": "stdout",
     "output_type": "stream",
     "text": [
      "mar\n",
      "15\n"
     ]
    },
    {
     "ename": "UnboundLocalError",
     "evalue": "local variable 'day' referenced before assignment",
     "output_type": "error",
     "traceback": [
      "\u001b[1;31m---------------------------------------------------------------------------\u001b[0m",
      "\u001b[1;31mUnboundLocalError\u001b[0m                         Traceback (most recent call last)",
      "\u001b[1;32m<ipython-input-65-c0edb8bbc9b1>\u001b[0m in \u001b[0;36m<module>\u001b[1;34m\u001b[0m\n\u001b[1;32m----> 1\u001b[1;33m \u001b[0mgetShots\u001b[0m\u001b[1;33m(\u001b[0m\u001b[1;34m\"MidtermText.txt\"\u001b[0m\u001b[1;33m)\u001b[0m\u001b[1;33m\u001b[0m\u001b[1;33m\u001b[0m\u001b[0m\n\u001b[0m",
      "\u001b[1;32m<ipython-input-64-eac13ed4cd4a>\u001b[0m in \u001b[0;36mgetShots\u001b[1;34m(filename, lower, upper)\u001b[0m\n\u001b[0;32m     53\u001b[0m                 \u001b[0mcount\u001b[0m \u001b[1;33m=\u001b[0m \u001b[0mcount\u001b[0m \u001b[1;33m+\u001b[0m \u001b[1;36m1\u001b[0m\u001b[1;33m\u001b[0m\u001b[1;33m\u001b[0m\u001b[0m\n\u001b[0;32m     54\u001b[0m \u001b[1;33m\u001b[0m\u001b[0m\n\u001b[1;32m---> 55\u001b[1;33m         \u001b[0mprint\u001b[0m\u001b[1;33m(\u001b[0m\u001b[1;34mf\"('{month}'/{day}, {shots}, '{vaccine}')\"\u001b[0m\u001b[1;33m)\u001b[0m\u001b[1;33m\u001b[0m\u001b[1;33m\u001b[0m\u001b[0m\n\u001b[0m\u001b[0;32m     56\u001b[0m     \u001b[1;32mreturn\u001b[0m\u001b[1;33m\u001b[0m\u001b[1;33m\u001b[0m\u001b[0m\n",
      "\u001b[1;31mUnboundLocalError\u001b[0m: local variable 'day' referenced before assignment"
     ]
    }
   ],
   "source": [
    "getShots(\"MidtermText.txt\")"
   ]
  },
  {
   "cell_type": "code",
   "execution_count": 43,
   "id": "3a9c1c01-9af9-401b-812d-b71c219a87c9",
   "metadata": {},
   "outputs": [
    {
     "data": {
      "text/plain": [
       "6"
      ]
     },
     "execution_count": 43,
     "metadata": {},
     "output_type": "execute_result"
    }
   ],
   "source": [
    "x = '06'\n",
    "int(x)"
   ]
  },
  {
   "cell_type": "code",
   "execution_count": null,
   "id": "048f0ec8-fab3-47ff-afe5-4efa6f045616",
   "metadata": {},
   "outputs": [],
   "source": []
  }
 ],
 "metadata": {
  "kernelspec": {
   "display_name": "Python 3",
   "language": "python",
   "name": "python3"
  },
  "language_info": {
   "codemirror_mode": {
    "name": "ipython",
    "version": 3
   },
   "file_extension": ".py",
   "mimetype": "text/x-python",
   "name": "python",
   "nbconvert_exporter": "python",
   "pygments_lexer": "ipython3",
   "version": "3.8.8"
  }
 },
 "nbformat": 4,
 "nbformat_minor": 5
}
