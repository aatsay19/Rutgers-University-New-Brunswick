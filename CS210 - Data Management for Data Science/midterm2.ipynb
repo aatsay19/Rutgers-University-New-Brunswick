{
 "cells": [
  {
   "cell_type": "code",
   "execution_count": 28,
   "id": "2bdbe60e-d625-401c-ab6a-97b19d20787b",
   "metadata": {},
   "outputs": [
    {
     "name": "stdout",
     "output_type": "stream",
     "text": [
      "<re.Match object; span=(0, 3), match='aA1'>\n"
     ]
    }
   ],
   "source": [
    "print(re.match('^[a-zA-Z][a-zA-Z0-9_]*', 'aA1_aA1__1aA'))"
   ]
  },
  {
   "cell_type": "code",
   "execution_count": 7,
   "id": "d23c379b-0563-41b3-aab1-9db97a49bb44",
   "metadata": {},
   "outputs": [
    {
     "name": "stdout",
     "output_type": "stream",
     "text": [
      "[('01', '*', '278')]\n",
      "[('1', '.', '23'), ('', '+', '16')]\n",
      "[('', '.', '2'), ('', '/', '5'), ('', '.', '')]\n",
      "[('00', '-', '2'), ('', '.', '3')]\n"
     ]
    }
   ],
   "source": [
    "import re\n",
    "pattern = r'[ ]*([a-zA-Z_][a-zA-Z_0-9]*|[0-9]*)[ ]*([+-/*])[ ]*([a-zA-Z_][a-zA-Z_0-9]*|[0-9]*)'\n",
    "string = ' 01*278  '\n",
    "print(re.findall(pattern,string))\n",
    "string = ' 1.23 +16'\n",
    "print(re.findall(pattern,string))\n",
    "string = '.2/5.'\n",
    "print(re.findall(pattern,string))\n",
    "string = '    00  -    2.3   '\n",
    "print(re.findall(pattern,string))"
   ]
  },
  {
   "cell_type": "code",
   "execution_count": 15,
   "id": "48c4f5ad-0bf9-44aa-b394-af4feafdf60f",
   "metadata": {},
   "outputs": [
    {
     "name": "stdout",
     "output_type": "stream",
     "text": [
      "[('01', '*', '278')]\n",
      "[('1', '.', '23'), ('', '+', '16')]\n",
      "[('', '.', '2'), ('', '/', '5'), ('', '.', '')]\n",
      "[('00', '-', '2'), ('', '.', '3')]\n"
     ]
    }
   ],
   "source": [
    "import re\n",
    "pattern = r'[ ]*([a-zA-Z_][a-zA-Z_0-9]*|[0-9]*)[ ]*([+-/*])[ ]*([a-zA-Z_][a-zA-Z_0-9]*|[0-9]*)'\n",
    "string = ' 01*278  '\n",
    "print(re.findall(pattern,string))\n",
    "string = ' 1.23 +16'\n",
    "print(re.findall(pattern,string))\n",
    "string = '.2/5.'\n",
    "print(re.findall(pattern,string))\n",
    "string = '    00  -    2.3   '\n",
    "print(re.findall(pattern,string))"
   ]
  },
  {
   "cell_type": "code",
   "execution_count": null,
   "id": "12b89221-a34c-4d5f-b1a3-3f5ea57a8b82",
   "metadata": {},
   "outputs": [],
   "source": []
  }
 ],
 "metadata": {
  "kernelspec": {
   "display_name": "Python 3",
   "language": "python",
   "name": "python3"
  },
  "language_info": {
   "codemirror_mode": {
    "name": "ipython",
    "version": 3
   },
   "file_extension": ".py",
   "mimetype": "text/x-python",
   "name": "python",
   "nbconvert_exporter": "python",
   "pygments_lexer": "ipython3",
   "version": "3.8.8"
  }
 },
 "nbformat": 4,
 "nbformat_minor": 5
}
